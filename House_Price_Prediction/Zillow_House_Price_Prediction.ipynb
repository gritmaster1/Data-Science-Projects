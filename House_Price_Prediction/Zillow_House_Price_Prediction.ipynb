{
  "nbformat": 4,
  "nbformat_minor": 0,
  "metadata": {
    "colab": {
      "provenance": []
    },
    "kernelspec": {
      "name": "python3",
      "display_name": "Python 3"
    },
    "language_info": {
      "name": "python"
    }
  },
  "cells": [
    {
      "cell_type": "markdown",
      "source": [
        "## Copy this notebook (if using Colab) via `File -> Save a Copy in Drive`.\n",
        "\n",
        "## You can do this assignment outside of Colab (using your local Python installation) via `File -> Download`.\n",
        "\n",
        "## <u>**Use the \"Text\" blocks to provide explanations wherever you find them necessary. Highlight your answers inside these text fields to ensure that we don't miss it while grading your HW.**</u>\n",
        "\n",
        "## *Please answer questions within their designated section and in the order they are asked to maintain clarity and organization. You can add new code and text blocks if you want.*"
      ],
      "metadata": {
        "id": "AVnIOoFV3ZVe"
      }
    },
    {
      "cell_type": "markdown",
      "source": [
        "## **Setup** 🔧\n",
        "\n",
        "- Code to download the data directly from the colab notebook.\n",
        "- If you find it easier to download the data from the kaggle website (and uploading it to your drive), you can skip this section."
      ],
      "metadata": {
        "id": "HxWSWskN3ihu"
      }
    },
    {
      "cell_type": "code",
      "execution_count": null,
      "metadata": {
        "id": "5GR63MvA3IYQ",
        "colab": {
          "base_uri": "https://localhost:8080/"
        },
        "outputId": "2d14e894-a239-41cb-fba6-54d8fa661e5c"
      },
      "outputs": [
        {
          "output_type": "stream",
          "name": "stdout",
          "text": [
            "Mounted at /content/drive\n"
          ]
        }
      ],
      "source": [
        "from google.colab import drive\n",
        "drive.mount('/content/drive')"
      ]
    },
    {
      "cell_type": "code",
      "source": [
        "# First mount your drive before running these cells.\n",
        "# Create a folder for the this HW and change to that dir\n",
        "%cd /content/drive/MyDrive/courses/cse519/homework2"
      ],
      "metadata": {
        "id": "KoWwP8vk3nYi",
        "colab": {
          "base_uri": "https://localhost:8080/"
        },
        "outputId": "1255b864-58a4-4d5e-c40e-6d7f4b42eea5"
      },
      "execution_count": null,
      "outputs": [
        {
          "output_type": "stream",
          "name": "stdout",
          "text": [
            "/content/drive/MyDrive/courses/cse519/homework2\n"
          ]
        }
      ]
    },
    {
      "cell_type": "code",
      "source": [],
      "metadata": {
        "id": "uDoE_xmZmUkl"
      },
      "execution_count": null,
      "outputs": []
    },
    {
      "cell_type": "markdown",
      "source": [
        "# Download data from Kaggle 📥"
      ],
      "metadata": {
        "id": "7o0KAH0B3t4p"
      }
    },
    {
      "cell_type": "code",
      "source": [
        "!pip install -q kaggle"
      ],
      "metadata": {
        "id": "uCSST78O3uO7"
      },
      "execution_count": null,
      "outputs": []
    },
    {
      "cell_type": "code",
      "source": [
        "# Go to your Kaggle account and navigate to your account settings (click on your profile picture -> \"Account\").\n",
        "# Scroll down to the \"API\" section and click \"Create New API Token.\" This will download a kaggle.json file containing your API key.\n",
        "# In your Colab notebook, run the following code to upload the kaggle.json file\n",
        "from google.colab import files\n",
        "files.upload()"
      ],
      "metadata": {
        "id": "IwYvwmor3zM4",
        "colab": {
          "base_uri": "https://localhost:8080/",
          "height": 391
        },
        "outputId": "5e9c2689-8452-4fb2-9d62-4e0ab2c2d88d"
      },
      "execution_count": null,
      "outputs": [
        {
          "output_type": "display_data",
          "data": {
            "text/plain": [
              "<IPython.core.display.HTML object>"
            ],
            "text/html": [
              "\n",
              "     <input type=\"file\" id=\"files-5cd012ec-4248-408f-a932-386b270d8266\" name=\"files[]\" multiple disabled\n",
              "        style=\"border:none\" />\n",
              "     <output id=\"result-5cd012ec-4248-408f-a932-386b270d8266\">\n",
              "      Upload widget is only available when the cell has been executed in the\n",
              "      current browser session. Please rerun this cell to enable.\n",
              "      </output>\n",
              "      <script>// Copyright 2017 Google LLC\n",
              "//\n",
              "// Licensed under the Apache License, Version 2.0 (the \"License\");\n",
              "// you may not use this file except in compliance with the License.\n",
              "// You may obtain a copy of the License at\n",
              "//\n",
              "//      http://www.apache.org/licenses/LICENSE-2.0\n",
              "//\n",
              "// Unless required by applicable law or agreed to in writing, software\n",
              "// distributed under the License is distributed on an \"AS IS\" BASIS,\n",
              "// WITHOUT WARRANTIES OR CONDITIONS OF ANY KIND, either express or implied.\n",
              "// See the License for the specific language governing permissions and\n",
              "// limitations under the License.\n",
              "\n",
              "/**\n",
              " * @fileoverview Helpers for google.colab Python module.\n",
              " */\n",
              "(function(scope) {\n",
              "function span(text, styleAttributes = {}) {\n",
              "  const element = document.createElement('span');\n",
              "  element.textContent = text;\n",
              "  for (const key of Object.keys(styleAttributes)) {\n",
              "    element.style[key] = styleAttributes[key];\n",
              "  }\n",
              "  return element;\n",
              "}\n",
              "\n",
              "// Max number of bytes which will be uploaded at a time.\n",
              "const MAX_PAYLOAD_SIZE = 100 * 1024;\n",
              "\n",
              "function _uploadFiles(inputId, outputId) {\n",
              "  const steps = uploadFilesStep(inputId, outputId);\n",
              "  const outputElement = document.getElementById(outputId);\n",
              "  // Cache steps on the outputElement to make it available for the next call\n",
              "  // to uploadFilesContinue from Python.\n",
              "  outputElement.steps = steps;\n",
              "\n",
              "  return _uploadFilesContinue(outputId);\n",
              "}\n",
              "\n",
              "// This is roughly an async generator (not supported in the browser yet),\n",
              "// where there are multiple asynchronous steps and the Python side is going\n",
              "// to poll for completion of each step.\n",
              "// This uses a Promise to block the python side on completion of each step,\n",
              "// then passes the result of the previous step as the input to the next step.\n",
              "function _uploadFilesContinue(outputId) {\n",
              "  const outputElement = document.getElementById(outputId);\n",
              "  const steps = outputElement.steps;\n",
              "\n",
              "  const next = steps.next(outputElement.lastPromiseValue);\n",
              "  return Promise.resolve(next.value.promise).then((value) => {\n",
              "    // Cache the last promise value to make it available to the next\n",
              "    // step of the generator.\n",
              "    outputElement.lastPromiseValue = value;\n",
              "    return next.value.response;\n",
              "  });\n",
              "}\n",
              "\n",
              "/**\n",
              " * Generator function which is called between each async step of the upload\n",
              " * process.\n",
              " * @param {string} inputId Element ID of the input file picker element.\n",
              " * @param {string} outputId Element ID of the output display.\n",
              " * @return {!Iterable<!Object>} Iterable of next steps.\n",
              " */\n",
              "function* uploadFilesStep(inputId, outputId) {\n",
              "  const inputElement = document.getElementById(inputId);\n",
              "  inputElement.disabled = false;\n",
              "\n",
              "  const outputElement = document.getElementById(outputId);\n",
              "  outputElement.innerHTML = '';\n",
              "\n",
              "  const pickedPromise = new Promise((resolve) => {\n",
              "    inputElement.addEventListener('change', (e) => {\n",
              "      resolve(e.target.files);\n",
              "    });\n",
              "  });\n",
              "\n",
              "  const cancel = document.createElement('button');\n",
              "  inputElement.parentElement.appendChild(cancel);\n",
              "  cancel.textContent = 'Cancel upload';\n",
              "  const cancelPromise = new Promise((resolve) => {\n",
              "    cancel.onclick = () => {\n",
              "      resolve(null);\n",
              "    };\n",
              "  });\n",
              "\n",
              "  // Wait for the user to pick the files.\n",
              "  const files = yield {\n",
              "    promise: Promise.race([pickedPromise, cancelPromise]),\n",
              "    response: {\n",
              "      action: 'starting',\n",
              "    }\n",
              "  };\n",
              "\n",
              "  cancel.remove();\n",
              "\n",
              "  // Disable the input element since further picks are not allowed.\n",
              "  inputElement.disabled = true;\n",
              "\n",
              "  if (!files) {\n",
              "    return {\n",
              "      response: {\n",
              "        action: 'complete',\n",
              "      }\n",
              "    };\n",
              "  }\n",
              "\n",
              "  for (const file of files) {\n",
              "    const li = document.createElement('li');\n",
              "    li.append(span(file.name, {fontWeight: 'bold'}));\n",
              "    li.append(span(\n",
              "        `(${file.type || 'n/a'}) - ${file.size} bytes, ` +\n",
              "        `last modified: ${\n",
              "            file.lastModifiedDate ? file.lastModifiedDate.toLocaleDateString() :\n",
              "                                    'n/a'} - `));\n",
              "    const percent = span('0% done');\n",
              "    li.appendChild(percent);\n",
              "\n",
              "    outputElement.appendChild(li);\n",
              "\n",
              "    const fileDataPromise = new Promise((resolve) => {\n",
              "      const reader = new FileReader();\n",
              "      reader.onload = (e) => {\n",
              "        resolve(e.target.result);\n",
              "      };\n",
              "      reader.readAsArrayBuffer(file);\n",
              "    });\n",
              "    // Wait for the data to be ready.\n",
              "    let fileData = yield {\n",
              "      promise: fileDataPromise,\n",
              "      response: {\n",
              "        action: 'continue',\n",
              "      }\n",
              "    };\n",
              "\n",
              "    // Use a chunked sending to avoid message size limits. See b/62115660.\n",
              "    let position = 0;\n",
              "    do {\n",
              "      const length = Math.min(fileData.byteLength - position, MAX_PAYLOAD_SIZE);\n",
              "      const chunk = new Uint8Array(fileData, position, length);\n",
              "      position += length;\n",
              "\n",
              "      const base64 = btoa(String.fromCharCode.apply(null, chunk));\n",
              "      yield {\n",
              "        response: {\n",
              "          action: 'append',\n",
              "          file: file.name,\n",
              "          data: base64,\n",
              "        },\n",
              "      };\n",
              "\n",
              "      let percentDone = fileData.byteLength === 0 ?\n",
              "          100 :\n",
              "          Math.round((position / fileData.byteLength) * 100);\n",
              "      percent.textContent = `${percentDone}% done`;\n",
              "\n",
              "    } while (position < fileData.byteLength);\n",
              "  }\n",
              "\n",
              "  // All done.\n",
              "  yield {\n",
              "    response: {\n",
              "      action: 'complete',\n",
              "    }\n",
              "  };\n",
              "}\n",
              "\n",
              "scope.google = scope.google || {};\n",
              "scope.google.colab = scope.google.colab || {};\n",
              "scope.google.colab._files = {\n",
              "  _uploadFiles,\n",
              "  _uploadFilesContinue,\n",
              "};\n",
              "})(self);\n",
              "</script> "
            ]
          },
          "metadata": {}
        },
        {
          "output_type": "error",
          "ename": "KeyboardInterrupt",
          "evalue": "",
          "traceback": [
            "\u001b[0;31m---------------------------------------------------------------------------\u001b[0m",
            "\u001b[0;31mKeyboardInterrupt\u001b[0m                         Traceback (most recent call last)",
            "\u001b[0;32m<ipython-input-1-27d9f24600be>\u001b[0m in \u001b[0;36m<cell line: 5>\u001b[0;34m()\u001b[0m\n\u001b[1;32m      3\u001b[0m \u001b[0;31m# In your Colab notebook, run the following code to upload the kaggle.json file\u001b[0m\u001b[0;34m\u001b[0m\u001b[0;34m\u001b[0m\u001b[0m\n\u001b[1;32m      4\u001b[0m \u001b[0;32mfrom\u001b[0m \u001b[0mgoogle\u001b[0m\u001b[0;34m.\u001b[0m\u001b[0mcolab\u001b[0m \u001b[0;32mimport\u001b[0m \u001b[0mfiles\u001b[0m\u001b[0;34m\u001b[0m\u001b[0;34m\u001b[0m\u001b[0m\n\u001b[0;32m----> 5\u001b[0;31m \u001b[0mfiles\u001b[0m\u001b[0;34m.\u001b[0m\u001b[0mupload\u001b[0m\u001b[0;34m(\u001b[0m\u001b[0;34m)\u001b[0m\u001b[0;34m\u001b[0m\u001b[0;34m\u001b[0m\u001b[0m\n\u001b[0m",
            "\u001b[0;32m/usr/local/lib/python3.10/dist-packages/google/colab/files.py\u001b[0m in \u001b[0;36mupload\u001b[0;34m(target_dir)\u001b[0m\n\u001b[1;32m     70\u001b[0m   \"\"\"\n\u001b[1;32m     71\u001b[0m \u001b[0;34m\u001b[0m\u001b[0m\n\u001b[0;32m---> 72\u001b[0;31m   \u001b[0muploaded_files\u001b[0m \u001b[0;34m=\u001b[0m \u001b[0m_upload_files\u001b[0m\u001b[0;34m(\u001b[0m\u001b[0mmultiple\u001b[0m\u001b[0;34m=\u001b[0m\u001b[0;32mTrue\u001b[0m\u001b[0;34m)\u001b[0m\u001b[0;34m\u001b[0m\u001b[0;34m\u001b[0m\u001b[0m\n\u001b[0m\u001b[1;32m     73\u001b[0m   \u001b[0;31m# Mapping from original filename to filename as saved locally.\u001b[0m\u001b[0;34m\u001b[0m\u001b[0;34m\u001b[0m\u001b[0m\n\u001b[1;32m     74\u001b[0m   \u001b[0mlocal_filenames\u001b[0m \u001b[0;34m=\u001b[0m \u001b[0mdict\u001b[0m\u001b[0;34m(\u001b[0m\u001b[0;34m)\u001b[0m\u001b[0;34m\u001b[0m\u001b[0;34m\u001b[0m\u001b[0m\n",
            "\u001b[0;32m/usr/local/lib/python3.10/dist-packages/google/colab/files.py\u001b[0m in \u001b[0;36m_upload_files\u001b[0;34m(multiple)\u001b[0m\n\u001b[1;32m    162\u001b[0m \u001b[0;34m\u001b[0m\u001b[0m\n\u001b[1;32m    163\u001b[0m   \u001b[0;31m# First result is always an indication that the file picker has completed.\u001b[0m\u001b[0;34m\u001b[0m\u001b[0;34m\u001b[0m\u001b[0m\n\u001b[0;32m--> 164\u001b[0;31m   result = _output.eval_js(\n\u001b[0m\u001b[1;32m    165\u001b[0m       'google.colab._files._uploadFiles(\"{input_id}\", \"{output_id}\")'.format(\n\u001b[1;32m    166\u001b[0m           \u001b[0minput_id\u001b[0m\u001b[0;34m=\u001b[0m\u001b[0minput_id\u001b[0m\u001b[0;34m,\u001b[0m \u001b[0moutput_id\u001b[0m\u001b[0;34m=\u001b[0m\u001b[0moutput_id\u001b[0m\u001b[0;34m\u001b[0m\u001b[0;34m\u001b[0m\u001b[0m\n",
            "\u001b[0;32m/usr/local/lib/python3.10/dist-packages/google/colab/output/_js.py\u001b[0m in \u001b[0;36meval_js\u001b[0;34m(script, ignore_result, timeout_sec)\u001b[0m\n\u001b[1;32m     38\u001b[0m   \u001b[0;32mif\u001b[0m \u001b[0mignore_result\u001b[0m\u001b[0;34m:\u001b[0m\u001b[0;34m\u001b[0m\u001b[0;34m\u001b[0m\u001b[0m\n\u001b[1;32m     39\u001b[0m     \u001b[0;32mreturn\u001b[0m\u001b[0;34m\u001b[0m\u001b[0;34m\u001b[0m\u001b[0m\n\u001b[0;32m---> 40\u001b[0;31m   \u001b[0;32mreturn\u001b[0m \u001b[0m_message\u001b[0m\u001b[0;34m.\u001b[0m\u001b[0mread_reply_from_input\u001b[0m\u001b[0;34m(\u001b[0m\u001b[0mrequest_id\u001b[0m\u001b[0;34m,\u001b[0m \u001b[0mtimeout_sec\u001b[0m\u001b[0;34m)\u001b[0m\u001b[0;34m\u001b[0m\u001b[0;34m\u001b[0m\u001b[0m\n\u001b[0m\u001b[1;32m     41\u001b[0m \u001b[0;34m\u001b[0m\u001b[0m\n\u001b[1;32m     42\u001b[0m \u001b[0;34m\u001b[0m\u001b[0m\n",
            "\u001b[0;32m/usr/local/lib/python3.10/dist-packages/google/colab/_message.py\u001b[0m in \u001b[0;36mread_reply_from_input\u001b[0;34m(message_id, timeout_sec)\u001b[0m\n\u001b[1;32m     94\u001b[0m     \u001b[0mreply\u001b[0m \u001b[0;34m=\u001b[0m \u001b[0m_read_next_input_message\u001b[0m\u001b[0;34m(\u001b[0m\u001b[0;34m)\u001b[0m\u001b[0;34m\u001b[0m\u001b[0;34m\u001b[0m\u001b[0m\n\u001b[1;32m     95\u001b[0m     \u001b[0;32mif\u001b[0m \u001b[0mreply\u001b[0m \u001b[0;34m==\u001b[0m \u001b[0m_NOT_READY\u001b[0m \u001b[0;32mor\u001b[0m \u001b[0;32mnot\u001b[0m \u001b[0misinstance\u001b[0m\u001b[0;34m(\u001b[0m\u001b[0mreply\u001b[0m\u001b[0;34m,\u001b[0m \u001b[0mdict\u001b[0m\u001b[0;34m)\u001b[0m\u001b[0;34m:\u001b[0m\u001b[0;34m\u001b[0m\u001b[0;34m\u001b[0m\u001b[0m\n\u001b[0;32m---> 96\u001b[0;31m       \u001b[0mtime\u001b[0m\u001b[0;34m.\u001b[0m\u001b[0msleep\u001b[0m\u001b[0;34m(\u001b[0m\u001b[0;36m0.025\u001b[0m\u001b[0;34m)\u001b[0m\u001b[0;34m\u001b[0m\u001b[0;34m\u001b[0m\u001b[0m\n\u001b[0m\u001b[1;32m     97\u001b[0m       \u001b[0;32mcontinue\u001b[0m\u001b[0;34m\u001b[0m\u001b[0;34m\u001b[0m\u001b[0m\n\u001b[1;32m     98\u001b[0m     if (\n",
            "\u001b[0;31mKeyboardInterrupt\u001b[0m: "
          ]
        }
      ]
    },
    {
      "cell_type": "code",
      "source": [
        "! mkdir ~/.kaggle"
      ],
      "metadata": {
        "id": "wjPX4TR533t3",
        "colab": {
          "base_uri": "https://localhost:8080/"
        },
        "outputId": "0446f6cd-395b-4760-9a29-393112ca123f"
      },
      "execution_count": null,
      "outputs": [
        {
          "output_type": "stream",
          "name": "stdout",
          "text": [
            "mkdir: cannot create directory ‘/root/.kaggle’: File exists\n"
          ]
        }
      ]
    },
    {
      "cell_type": "code",
      "source": [
        "! cp kaggle.json ~/.kaggle/"
      ],
      "metadata": {
        "id": "1vhKfrFZ36Um"
      },
      "execution_count": null,
      "outputs": []
    },
    {
      "cell_type": "code",
      "source": [
        "!kaggle competitions download -c zillow-prize-1\n"
      ],
      "metadata": {
        "id": "dGod-Vdc3913",
        "colab": {
          "base_uri": "https://localhost:8080/"
        },
        "outputId": "90b09e41-7037-45ee-e40b-c6855478aa77"
      },
      "execution_count": null,
      "outputs": [
        {
          "output_type": "stream",
          "name": "stdout",
          "text": [
            "Traceback (most recent call last):\n",
            "  File \"/usr/local/bin/kaggle\", line 8, in <module>\n",
            "    sys.exit(main())\n",
            "  File \"/usr/local/lib/python3.10/dist-packages/kaggle/cli.py\", line 63, in main\n",
            "    out = args.func(**command_args)\n",
            "  File \"/usr/local/lib/python3.10/dist-packages/kaggle/api/kaggle_api_extended.py\", line 1037, in competition_download_cli\n",
            "    self.competition_download_files(competition, path, force,\n",
            "  File \"/usr/local/lib/python3.10/dist-packages/kaggle/api/kaggle_api_extended.py\", line 1000, in competition_download_files\n",
            "    url = response.retries.history[0].redirect_location.split('?')[0]\n",
            "IndexError: tuple index out of range\n"
          ]
        }
      ]
    },
    {
      "cell_type": "markdown",
      "source": [
        "# Alternate: download data using gdown (if having issues with Kaggle) 📁"
      ],
      "metadata": {
        "id": "EVG255TG4FnC"
      }
    },
    {
      "cell_type": "code",
      "source": [
        "! pip install gdown"
      ],
      "metadata": {
        "id": "K8KtsaSC4GM1"
      },
      "execution_count": null,
      "outputs": []
    },
    {
      "cell_type": "code",
      "source": [
        "import gdown\n",
        "url = 'https://drive.google.com/uc?id=15Ap7c-LehMzMYpv3WIWbja1Mns_BTYgQ'\n",
        "gdown.download(url)"
      ],
      "metadata": {
        "id": "K1ZNR57n4Krn",
        "colab": {
          "base_uri": "https://localhost:8080/",
          "height": 126
        },
        "outputId": "a2cc75a8-e22c-429c-ce82-f820801f78bb"
      },
      "execution_count": null,
      "outputs": [
        {
          "output_type": "stream",
          "name": "stderr",
          "text": [
            "Downloading...\n",
            "From (original): https://drive.google.com/uc?id=15Ap7c-LehMzMYpv3WIWbja1Mns_BTYgQ\n",
            "From (redirected): https://drive.google.com/uc?id=15Ap7c-LehMzMYpv3WIWbja1Mns_BTYgQ&confirm=t&uuid=29277410-47c1-434f-a9f3-75f79f93e95e\n",
            "To: /content/drive/MyDrive/courses/cse519/homework2/zillow-prize-1.zip\n",
            "100%|██████████| 356M/356M [00:04<00:00, 79.7MB/s]\n"
          ]
        },
        {
          "output_type": "execute_result",
          "data": {
            "text/plain": [
              "'zillow-prize-1.zip'"
            ],
            "application/vnd.google.colaboratory.intrinsic+json": {
              "type": "string"
            }
          },
          "metadata": {},
          "execution_count": 46
        }
      ]
    },
    {
      "cell_type": "markdown",
      "source": [
        "# Extract data and install packages (regardless of data acquisition method) 🚀"
      ],
      "metadata": {
        "id": "wHUV5O-14RO7"
      }
    },
    {
      "cell_type": "code",
      "source": [
        "!unzip zillow-prize-1.zip"
      ],
      "metadata": {
        "id": "6OjlI8bo4Rn8"
      },
      "execution_count": null,
      "outputs": []
    },
    {
      "cell_type": "code",
      "source": [
        "### TODO: Install required packages\n",
        "### Student's code here\n",
        "!pip install pandas\n",
        "!pip install scikit-learn\n",
        "!pip install numpy\n",
        "!pip install matplotlib\n",
        "!pip install seaborn\n",
        "!pip install catboost"
      ],
      "metadata": {
        "id": "_iOtCykr4XtX",
        "colab": {
          "base_uri": "https://localhost:8080/"
        },
        "outputId": "4da964a5-233e-4071-bc85-7da4f6c45b2a"
      },
      "execution_count": null,
      "outputs": [
        {
          "output_type": "stream",
          "name": "stdout",
          "text": [
            "Requirement already satisfied: pandas in /usr/local/lib/python3.10/dist-packages (2.2.2)\n",
            "Requirement already satisfied: numpy>=1.22.4 in /usr/local/lib/python3.10/dist-packages (from pandas) (1.26.4)\n",
            "Requirement already satisfied: python-dateutil>=2.8.2 in /usr/local/lib/python3.10/dist-packages (from pandas) (2.8.2)\n",
            "Requirement already satisfied: pytz>=2020.1 in /usr/local/lib/python3.10/dist-packages (from pandas) (2024.2)\n",
            "Requirement already satisfied: tzdata>=2022.7 in /usr/local/lib/python3.10/dist-packages (from pandas) (2024.2)\n",
            "Requirement already satisfied: six>=1.5 in /usr/local/lib/python3.10/dist-packages (from python-dateutil>=2.8.2->pandas) (1.16.0)\n",
            "Requirement already satisfied: scikit-learn in /usr/local/lib/python3.10/dist-packages (1.5.2)\n",
            "Requirement already satisfied: numpy>=1.19.5 in /usr/local/lib/python3.10/dist-packages (from scikit-learn) (1.26.4)\n",
            "Requirement already satisfied: scipy>=1.6.0 in /usr/local/lib/python3.10/dist-packages (from scikit-learn) (1.13.1)\n",
            "Requirement already satisfied: joblib>=1.2.0 in /usr/local/lib/python3.10/dist-packages (from scikit-learn) (1.4.2)\n",
            "Requirement already satisfied: threadpoolctl>=3.1.0 in /usr/local/lib/python3.10/dist-packages (from scikit-learn) (3.5.0)\n",
            "Requirement already satisfied: numpy in /usr/local/lib/python3.10/dist-packages (1.26.4)\n",
            "Requirement already satisfied: matplotlib in /usr/local/lib/python3.10/dist-packages (3.7.1)\n",
            "Requirement already satisfied: contourpy>=1.0.1 in /usr/local/lib/python3.10/dist-packages (from matplotlib) (1.3.0)\n",
            "Requirement already satisfied: cycler>=0.10 in /usr/local/lib/python3.10/dist-packages (from matplotlib) (0.12.1)\n",
            "Requirement already satisfied: fonttools>=4.22.0 in /usr/local/lib/python3.10/dist-packages (from matplotlib) (4.54.1)\n",
            "Requirement already satisfied: kiwisolver>=1.0.1 in /usr/local/lib/python3.10/dist-packages (from matplotlib) (1.4.7)\n",
            "Requirement already satisfied: numpy>=1.20 in /usr/local/lib/python3.10/dist-packages (from matplotlib) (1.26.4)\n",
            "Requirement already satisfied: packaging>=20.0 in /usr/local/lib/python3.10/dist-packages (from matplotlib) (24.1)\n",
            "Requirement already satisfied: pillow>=6.2.0 in /usr/local/lib/python3.10/dist-packages (from matplotlib) (10.4.0)\n",
            "Requirement already satisfied: pyparsing>=2.3.1 in /usr/local/lib/python3.10/dist-packages (from matplotlib) (3.2.0)\n",
            "Requirement already satisfied: python-dateutil>=2.7 in /usr/local/lib/python3.10/dist-packages (from matplotlib) (2.8.2)\n",
            "Requirement already satisfied: six>=1.5 in /usr/local/lib/python3.10/dist-packages (from python-dateutil>=2.7->matplotlib) (1.16.0)\n",
            "Requirement already satisfied: seaborn in /usr/local/lib/python3.10/dist-packages (0.13.2)\n",
            "Requirement already satisfied: numpy!=1.24.0,>=1.20 in /usr/local/lib/python3.10/dist-packages (from seaborn) (1.26.4)\n",
            "Requirement already satisfied: pandas>=1.2 in /usr/local/lib/python3.10/dist-packages (from seaborn) (2.2.2)\n",
            "Requirement already satisfied: matplotlib!=3.6.1,>=3.4 in /usr/local/lib/python3.10/dist-packages (from seaborn) (3.7.1)\n",
            "Requirement already satisfied: contourpy>=1.0.1 in /usr/local/lib/python3.10/dist-packages (from matplotlib!=3.6.1,>=3.4->seaborn) (1.3.0)\n",
            "Requirement already satisfied: cycler>=0.10 in /usr/local/lib/python3.10/dist-packages (from matplotlib!=3.6.1,>=3.4->seaborn) (0.12.1)\n",
            "Requirement already satisfied: fonttools>=4.22.0 in /usr/local/lib/python3.10/dist-packages (from matplotlib!=3.6.1,>=3.4->seaborn) (4.54.1)\n",
            "Requirement already satisfied: kiwisolver>=1.0.1 in /usr/local/lib/python3.10/dist-packages (from matplotlib!=3.6.1,>=3.4->seaborn) (1.4.7)\n",
            "Requirement already satisfied: packaging>=20.0 in /usr/local/lib/python3.10/dist-packages (from matplotlib!=3.6.1,>=3.4->seaborn) (24.1)\n",
            "Requirement already satisfied: pillow>=6.2.0 in /usr/local/lib/python3.10/dist-packages (from matplotlib!=3.6.1,>=3.4->seaborn) (10.4.0)\n",
            "Requirement already satisfied: pyparsing>=2.3.1 in /usr/local/lib/python3.10/dist-packages (from matplotlib!=3.6.1,>=3.4->seaborn) (3.2.0)\n",
            "Requirement already satisfied: python-dateutil>=2.7 in /usr/local/lib/python3.10/dist-packages (from matplotlib!=3.6.1,>=3.4->seaborn) (2.8.2)\n",
            "Requirement already satisfied: pytz>=2020.1 in /usr/local/lib/python3.10/dist-packages (from pandas>=1.2->seaborn) (2024.2)\n",
            "Requirement already satisfied: tzdata>=2022.7 in /usr/local/lib/python3.10/dist-packages (from pandas>=1.2->seaborn) (2024.2)\n",
            "Requirement already satisfied: six>=1.5 in /usr/local/lib/python3.10/dist-packages (from python-dateutil>=2.7->matplotlib!=3.6.1,>=3.4->seaborn) (1.16.0)\n",
            "Collecting catboost\n",
            "  Downloading catboost-1.2.7-cp310-cp310-manylinux2014_x86_64.whl.metadata (1.2 kB)\n",
            "Requirement already satisfied: graphviz in /usr/local/lib/python3.10/dist-packages (from catboost) (0.20.3)\n",
            "Requirement already satisfied: matplotlib in /usr/local/lib/python3.10/dist-packages (from catboost) (3.7.1)\n",
            "Requirement already satisfied: numpy<2.0,>=1.16.0 in /usr/local/lib/python3.10/dist-packages (from catboost) (1.26.4)\n",
            "Requirement already satisfied: pandas>=0.24 in /usr/local/lib/python3.10/dist-packages (from catboost) (2.2.2)\n",
            "Requirement already satisfied: scipy in /usr/local/lib/python3.10/dist-packages (from catboost) (1.13.1)\n",
            "Requirement already satisfied: plotly in /usr/local/lib/python3.10/dist-packages (from catboost) (5.24.1)\n",
            "Requirement already satisfied: six in /usr/local/lib/python3.10/dist-packages (from catboost) (1.16.0)\n",
            "Requirement already satisfied: python-dateutil>=2.8.2 in /usr/local/lib/python3.10/dist-packages (from pandas>=0.24->catboost) (2.8.2)\n",
            "Requirement already satisfied: pytz>=2020.1 in /usr/local/lib/python3.10/dist-packages (from pandas>=0.24->catboost) (2024.2)\n",
            "Requirement already satisfied: tzdata>=2022.7 in /usr/local/lib/python3.10/dist-packages (from pandas>=0.24->catboost) (2024.2)\n",
            "Requirement already satisfied: contourpy>=1.0.1 in /usr/local/lib/python3.10/dist-packages (from matplotlib->catboost) (1.3.0)\n",
            "Requirement already satisfied: cycler>=0.10 in /usr/local/lib/python3.10/dist-packages (from matplotlib->catboost) (0.12.1)\n",
            "Requirement already satisfied: fonttools>=4.22.0 in /usr/local/lib/python3.10/dist-packages (from matplotlib->catboost) (4.54.1)\n",
            "Requirement already satisfied: kiwisolver>=1.0.1 in /usr/local/lib/python3.10/dist-packages (from matplotlib->catboost) (1.4.7)\n",
            "Requirement already satisfied: packaging>=20.0 in /usr/local/lib/python3.10/dist-packages (from matplotlib->catboost) (24.1)\n",
            "Requirement already satisfied: pillow>=6.2.0 in /usr/local/lib/python3.10/dist-packages (from matplotlib->catboost) (10.4.0)\n",
            "Requirement already satisfied: pyparsing>=2.3.1 in /usr/local/lib/python3.10/dist-packages (from matplotlib->catboost) (3.2.0)\n",
            "Requirement already satisfied: tenacity>=6.2.0 in /usr/local/lib/python3.10/dist-packages (from plotly->catboost) (9.0.0)\n",
            "Downloading catboost-1.2.7-cp310-cp310-manylinux2014_x86_64.whl (98.7 MB)\n",
            "\u001b[2K   \u001b[90m━━━━━━━━━━━━━━━━━━━━━━━━━━━━━━━━━━━━━━━━\u001b[0m \u001b[32m98.7/98.7 MB\u001b[0m \u001b[31m8.1 MB/s\u001b[0m eta \u001b[36m0:00:00\u001b[0m\n",
            "\u001b[?25hInstalling collected packages: catboost\n",
            "Successfully installed catboost-1.2.7\n"
          ]
        }
      ]
    },
    {
      "cell_type": "code",
      "source": [],
      "metadata": {
        "id": "y9b9CtW-4Ygx"
      },
      "execution_count": null,
      "outputs": []
    },
    {
      "cell_type": "markdown",
      "source": [
        "## **Library and Data Imports**\n",
        "- Import your libraries and the data here"
      ],
      "metadata": {
        "id": "exNMO4Zl4bty"
      }
    },
    {
      "cell_type": "code",
      "source": [
        "### TODO: Load required packages\n",
        "import numpy as np\n",
        "import pandas as pd\n",
        "import matplotlib.pyplot as plt\n",
        "import seaborn as sns\n",
        "import warnings\n",
        "from sklearn.linear_model import LinearRegression\n",
        "from sklearn.preprocessing import OneHotEncoder\n",
        "from sklearn.preprocessing import MinMaxScaler\n",
        "from sklearn.preprocessing import MinMaxScaler\n",
        "from geopy.distance import geodesic\n",
        "warnings.filterwarnings(\"ignore\")\n",
        "from sklearn.cluster import KMeans\n",
        "from sklearn.cluster import DBSCAN\n",
        "from sklearn.model_selection import train_test_split\n",
        "from sklearn.ensemble import GradientBoostingRegressor\n",
        "from sklearn.preprocessing import LabelEncoder\n",
        "from sklearn.metrics import mean_absolute_error, mean_squared_error\n",
        "import xgboost as xgb\n",
        "from sklearn.model_selection import train_test_split\n",
        "from sklearn.metrics import mean_squared_error\n",
        "\n"
      ],
      "metadata": {
        "id": "tihAIE7n4cPF"
      },
      "execution_count": null,
      "outputs": []
    },
    {
      "cell_type": "code",
      "source": [],
      "metadata": {
        "id": "0vcqyY5S4jvs"
      },
      "execution_count": null,
      "outputs": []
    },
    {
      "cell_type": "markdown",
      "source": [
        "## **Q1: House Desirability Scoring and Ranking (10 Points)**\n"
      ],
      "metadata": {
        "id": "FlTsCmjZ4kHX"
      }
    },
    {
      "cell_type": "markdown",
      "source": [
        "**Ans)**I have merged the properties datasset of 2016 and 2017. Because as mentioned in the kaggle that updated featured are present in 2017 for 2016 dataset.And inititated Building Scoring and Ranking Functions.To do so i have used the following features and the reasons are:\n",
        "\n",
        "\n",
        "**Taxvaluedollarcnt**: Tax-assessed value serves as a proxy for market value, directly influencing desirability.\n",
        "\n",
        "**Calculatedfinishedsquarefeet**: Larger homes tend to be more desirable, especially for families.\n",
        "\n",
        "**lotsizesquarefeet**: Lot size can indicate available outdoor space, which is important for certain buyers.\n",
        "\n",
        "**Bathroomcnt** and **bedroomcnt**: More rooms add utility to the property, making it more functional for larger families or guests.\n",
        "\n",
        "initially i have considered few other features, like regionidcity but i have oserved most of them was not-diverse and is not making any sense.So I have dropped after considering the features.\n",
        "\n",
        "1)I have then normalized above selected features and assigned some weights to them so that the features contribute accordingly to the desired Score.and then Sorted the top 10 desired properties and least desired properties."
      ],
      "metadata": {
        "id": "KzbozizjX_dE"
      }
    },
    {
      "cell_type": "code",
      "source": [
        "\n",
        "# Load both datasets\n",
        "properties_2016 = pd.read_csv('/content/drive/MyDrive/courses/cse519/homework2/properties_2016.csv')\n",
        "properties_2017 = pd.read_csv('/content/drive/MyDrive/courses/cse519/homework2/properties_2017.csv')"
      ],
      "metadata": {
        "id": "JHW1BdEgK7zA"
      },
      "execution_count": null,
      "outputs": []
    },
    {
      "cell_type": "code",
      "source": [
        "all_equal = (properties_2016['parcelid'] == properties_2017['parcelid']).all()\n",
        "print(all_equal)\n"
      ],
      "metadata": {
        "colab": {
          "base_uri": "https://localhost:8080/"
        },
        "id": "Q7EKlLVMttXf",
        "outputId": "eccc0037-a7ac-4357-b280-96a4444a923e"
      },
      "execution_count": null,
      "outputs": [
        {
          "output_type": "stream",
          "name": "stdout",
          "text": [
            "False\n"
          ]
        }
      ]
    },
    {
      "cell_type": "code",
      "source": [
        "# Merging the datasets using 'parcelid' as the key\n",
        "updated_properties = pd.merge(properties_2016, properties_2017, on='parcelid', how='outer', suffixes=('_2016', '_2017'))\n"
      ],
      "metadata": {
        "id": "09aFBAXhMD6F"
      },
      "execution_count": null,
      "outputs": []
    },
    {
      "cell_type": "markdown",
      "source": [
        "**Updating 2016 Dataset**"
      ],
      "metadata": {
        "id": "8LxwtfM9rwBf"
      }
    },
    {
      "cell_type": "code",
      "source": [
        "for col in properties_2016.columns:\n",
        "    if col != 'parcelid':  # Skip the 'parcelid' column\n",
        "        col_2017 = col + '_2017'  # Corresponding column from 2017 dataset\n",
        "        updated_properties[col] = updated_properties[col + '_2016'].combine_first(updated_properties[col_2017])\n",
        "\n",
        "# 2. Drop the extra '_2016' and '_2017' columns, as we have already combined them\n",
        "updated_properties = updated_properties[properties_2016.columns]"
      ],
      "metadata": {
        "id": "cOFgnd7oMrrq"
      },
      "execution_count": null,
      "outputs": []
    },
    {
      "cell_type": "code",
      "source": [
        "# Display the first few rows of the updated dataset\n",
        "updated_properties.head()"
      ],
      "metadata": {
        "colab": {
          "base_uri": "https://localhost:8080/",
          "height": 256
        },
        "id": "nSSyceRpNqOd",
        "outputId": "a56bc594-541b-48a5-d2aa-c52d5abe6ecb"
      },
      "execution_count": null,
      "outputs": [
        {
          "output_type": "execute_result",
          "data": {
            "text/plain": [
              "   parcelid  airconditioningtypeid  architecturalstyletypeid  basementsqft  \\\n",
              "0  10711725                    1.0                       NaN           NaN   \n",
              "1  10711726                    1.0                       NaN           NaN   \n",
              "2  10711727                    1.0                       NaN           NaN   \n",
              "3  10711728                    1.0                       NaN           NaN   \n",
              "4  10711729                    1.0                       NaN           NaN   \n",
              "\n",
              "   bathroomcnt  bedroomcnt  buildingclasstypeid  buildingqualitytypeid  \\\n",
              "0          3.0         4.0                  NaN                    4.0   \n",
              "1          3.0         5.0                  NaN                    4.0   \n",
              "2          2.0         4.0                  NaN                    4.0   \n",
              "3          3.0         4.0                  NaN                    4.0   \n",
              "4          3.0         4.0                  NaN                    4.0   \n",
              "\n",
              "   calculatedbathnbr  decktypeid  ...  numberofstories  fireplaceflag  \\\n",
              "0                3.0         NaN  ...              NaN            NaN   \n",
              "1                3.0         NaN  ...              NaN            NaN   \n",
              "2                2.0         NaN  ...              NaN            NaN   \n",
              "3                3.0         NaN  ...              NaN            NaN   \n",
              "4                3.0         NaN  ...              NaN            NaN   \n",
              "\n",
              "   structuretaxvaluedollarcnt  taxvaluedollarcnt  assessmentyear  \\\n",
              "0                    183000.0           615000.0          2015.0   \n",
              "1                    217167.0           531642.0          2015.0   \n",
              "2                    195295.0           328148.0          2015.0   \n",
              "3                    188384.0           297377.0          2015.0   \n",
              "4                    178238.0           297001.0          2015.0   \n",
              "\n",
              "   landtaxvaluedollarcnt  taxamount  taxdelinquencyflag  taxdelinquencyyear  \\\n",
              "0               432000.0    8625.75                 NaN                 NaN   \n",
              "1               314475.0    6722.67                 NaN                 NaN   \n",
              "2               132853.0    4160.63                 NaN                 NaN   \n",
              "3               108993.0    3883.47                 NaN                 NaN   \n",
              "4               118763.0    3884.27                 NaN                 NaN   \n",
              "\n",
              "   censustractandblock  \n",
              "0         6.037113e+13  \n",
              "1         6.037113e+13  \n",
              "2         6.037113e+13  \n",
              "3         6.037113e+13  \n",
              "4         6.037113e+13  \n",
              "\n",
              "[5 rows x 58 columns]"
            ],
            "text/html": [
              "\n",
              "  <div id=\"df-747de5cd-c010-45d8-ad77-2d19c21627a7\" class=\"colab-df-container\">\n",
              "    <div>\n",
              "<style scoped>\n",
              "    .dataframe tbody tr th:only-of-type {\n",
              "        vertical-align: middle;\n",
              "    }\n",
              "\n",
              "    .dataframe tbody tr th {\n",
              "        vertical-align: top;\n",
              "    }\n",
              "\n",
              "    .dataframe thead th {\n",
              "        text-align: right;\n",
              "    }\n",
              "</style>\n",
              "<table border=\"1\" class=\"dataframe\">\n",
              "  <thead>\n",
              "    <tr style=\"text-align: right;\">\n",
              "      <th></th>\n",
              "      <th>parcelid</th>\n",
              "      <th>airconditioningtypeid</th>\n",
              "      <th>architecturalstyletypeid</th>\n",
              "      <th>basementsqft</th>\n",
              "      <th>bathroomcnt</th>\n",
              "      <th>bedroomcnt</th>\n",
              "      <th>buildingclasstypeid</th>\n",
              "      <th>buildingqualitytypeid</th>\n",
              "      <th>calculatedbathnbr</th>\n",
              "      <th>decktypeid</th>\n",
              "      <th>...</th>\n",
              "      <th>numberofstories</th>\n",
              "      <th>fireplaceflag</th>\n",
              "      <th>structuretaxvaluedollarcnt</th>\n",
              "      <th>taxvaluedollarcnt</th>\n",
              "      <th>assessmentyear</th>\n",
              "      <th>landtaxvaluedollarcnt</th>\n",
              "      <th>taxamount</th>\n",
              "      <th>taxdelinquencyflag</th>\n",
              "      <th>taxdelinquencyyear</th>\n",
              "      <th>censustractandblock</th>\n",
              "    </tr>\n",
              "  </thead>\n",
              "  <tbody>\n",
              "    <tr>\n",
              "      <th>0</th>\n",
              "      <td>10711725</td>\n",
              "      <td>1.0</td>\n",
              "      <td>NaN</td>\n",
              "      <td>NaN</td>\n",
              "      <td>3.0</td>\n",
              "      <td>4.0</td>\n",
              "      <td>NaN</td>\n",
              "      <td>4.0</td>\n",
              "      <td>3.0</td>\n",
              "      <td>NaN</td>\n",
              "      <td>...</td>\n",
              "      <td>NaN</td>\n",
              "      <td>NaN</td>\n",
              "      <td>183000.0</td>\n",
              "      <td>615000.0</td>\n",
              "      <td>2015.0</td>\n",
              "      <td>432000.0</td>\n",
              "      <td>8625.75</td>\n",
              "      <td>NaN</td>\n",
              "      <td>NaN</td>\n",
              "      <td>6.037113e+13</td>\n",
              "    </tr>\n",
              "    <tr>\n",
              "      <th>1</th>\n",
              "      <td>10711726</td>\n",
              "      <td>1.0</td>\n",
              "      <td>NaN</td>\n",
              "      <td>NaN</td>\n",
              "      <td>3.0</td>\n",
              "      <td>5.0</td>\n",
              "      <td>NaN</td>\n",
              "      <td>4.0</td>\n",
              "      <td>3.0</td>\n",
              "      <td>NaN</td>\n",
              "      <td>...</td>\n",
              "      <td>NaN</td>\n",
              "      <td>NaN</td>\n",
              "      <td>217167.0</td>\n",
              "      <td>531642.0</td>\n",
              "      <td>2015.0</td>\n",
              "      <td>314475.0</td>\n",
              "      <td>6722.67</td>\n",
              "      <td>NaN</td>\n",
              "      <td>NaN</td>\n",
              "      <td>6.037113e+13</td>\n",
              "    </tr>\n",
              "    <tr>\n",
              "      <th>2</th>\n",
              "      <td>10711727</td>\n",
              "      <td>1.0</td>\n",
              "      <td>NaN</td>\n",
              "      <td>NaN</td>\n",
              "      <td>2.0</td>\n",
              "      <td>4.0</td>\n",
              "      <td>NaN</td>\n",
              "      <td>4.0</td>\n",
              "      <td>2.0</td>\n",
              "      <td>NaN</td>\n",
              "      <td>...</td>\n",
              "      <td>NaN</td>\n",
              "      <td>NaN</td>\n",
              "      <td>195295.0</td>\n",
              "      <td>328148.0</td>\n",
              "      <td>2015.0</td>\n",
              "      <td>132853.0</td>\n",
              "      <td>4160.63</td>\n",
              "      <td>NaN</td>\n",
              "      <td>NaN</td>\n",
              "      <td>6.037113e+13</td>\n",
              "    </tr>\n",
              "    <tr>\n",
              "      <th>3</th>\n",
              "      <td>10711728</td>\n",
              "      <td>1.0</td>\n",
              "      <td>NaN</td>\n",
              "      <td>NaN</td>\n",
              "      <td>3.0</td>\n",
              "      <td>4.0</td>\n",
              "      <td>NaN</td>\n",
              "      <td>4.0</td>\n",
              "      <td>3.0</td>\n",
              "      <td>NaN</td>\n",
              "      <td>...</td>\n",
              "      <td>NaN</td>\n",
              "      <td>NaN</td>\n",
              "      <td>188384.0</td>\n",
              "      <td>297377.0</td>\n",
              "      <td>2015.0</td>\n",
              "      <td>108993.0</td>\n",
              "      <td>3883.47</td>\n",
              "      <td>NaN</td>\n",
              "      <td>NaN</td>\n",
              "      <td>6.037113e+13</td>\n",
              "    </tr>\n",
              "    <tr>\n",
              "      <th>4</th>\n",
              "      <td>10711729</td>\n",
              "      <td>1.0</td>\n",
              "      <td>NaN</td>\n",
              "      <td>NaN</td>\n",
              "      <td>3.0</td>\n",
              "      <td>4.0</td>\n",
              "      <td>NaN</td>\n",
              "      <td>4.0</td>\n",
              "      <td>3.0</td>\n",
              "      <td>NaN</td>\n",
              "      <td>...</td>\n",
              "      <td>NaN</td>\n",
              "      <td>NaN</td>\n",
              "      <td>178238.0</td>\n",
              "      <td>297001.0</td>\n",
              "      <td>2015.0</td>\n",
              "      <td>118763.0</td>\n",
              "      <td>3884.27</td>\n",
              "      <td>NaN</td>\n",
              "      <td>NaN</td>\n",
              "      <td>6.037113e+13</td>\n",
              "    </tr>\n",
              "  </tbody>\n",
              "</table>\n",
              "<p>5 rows × 58 columns</p>\n",
              "</div>\n",
              "    <div class=\"colab-df-buttons\">\n",
              "\n",
              "  <div class=\"colab-df-container\">\n",
              "    <button class=\"colab-df-convert\" onclick=\"convertToInteractive('df-747de5cd-c010-45d8-ad77-2d19c21627a7')\"\n",
              "            title=\"Convert this dataframe to an interactive table.\"\n",
              "            style=\"display:none;\">\n",
              "\n",
              "  <svg xmlns=\"http://www.w3.org/2000/svg\" height=\"24px\" viewBox=\"0 -960 960 960\">\n",
              "    <path d=\"M120-120v-720h720v720H120Zm60-500h600v-160H180v160Zm220 220h160v-160H400v160Zm0 220h160v-160H400v160ZM180-400h160v-160H180v160Zm440 0h160v-160H620v160ZM180-180h160v-160H180v160Zm440 0h160v-160H620v160Z\"/>\n",
              "  </svg>\n",
              "    </button>\n",
              "\n",
              "  <style>\n",
              "    .colab-df-container {\n",
              "      display:flex;\n",
              "      gap: 12px;\n",
              "    }\n",
              "\n",
              "    .colab-df-convert {\n",
              "      background-color: #E8F0FE;\n",
              "      border: none;\n",
              "      border-radius: 50%;\n",
              "      cursor: pointer;\n",
              "      display: none;\n",
              "      fill: #1967D2;\n",
              "      height: 32px;\n",
              "      padding: 0 0 0 0;\n",
              "      width: 32px;\n",
              "    }\n",
              "\n",
              "    .colab-df-convert:hover {\n",
              "      background-color: #E2EBFA;\n",
              "      box-shadow: 0px 1px 2px rgba(60, 64, 67, 0.3), 0px 1px 3px 1px rgba(60, 64, 67, 0.15);\n",
              "      fill: #174EA6;\n",
              "    }\n",
              "\n",
              "    .colab-df-buttons div {\n",
              "      margin-bottom: 4px;\n",
              "    }\n",
              "\n",
              "    [theme=dark] .colab-df-convert {\n",
              "      background-color: #3B4455;\n",
              "      fill: #D2E3FC;\n",
              "    }\n",
              "\n",
              "    [theme=dark] .colab-df-convert:hover {\n",
              "      background-color: #434B5C;\n",
              "      box-shadow: 0px 1px 3px 1px rgba(0, 0, 0, 0.15);\n",
              "      filter: drop-shadow(0px 1px 2px rgba(0, 0, 0, 0.3));\n",
              "      fill: #FFFFFF;\n",
              "    }\n",
              "  </style>\n",
              "\n",
              "    <script>\n",
              "      const buttonEl =\n",
              "        document.querySelector('#df-747de5cd-c010-45d8-ad77-2d19c21627a7 button.colab-df-convert');\n",
              "      buttonEl.style.display =\n",
              "        google.colab.kernel.accessAllowed ? 'block' : 'none';\n",
              "\n",
              "      async function convertToInteractive(key) {\n",
              "        const element = document.querySelector('#df-747de5cd-c010-45d8-ad77-2d19c21627a7');\n",
              "        const dataTable =\n",
              "          await google.colab.kernel.invokeFunction('convertToInteractive',\n",
              "                                                    [key], {});\n",
              "        if (!dataTable) return;\n",
              "\n",
              "        const docLinkHtml = 'Like what you see? Visit the ' +\n",
              "          '<a target=\"_blank\" href=https://colab.research.google.com/notebooks/data_table.ipynb>data table notebook</a>'\n",
              "          + ' to learn more about interactive tables.';\n",
              "        element.innerHTML = '';\n",
              "        dataTable['output_type'] = 'display_data';\n",
              "        await google.colab.output.renderOutput(dataTable, element);\n",
              "        const docLink = document.createElement('div');\n",
              "        docLink.innerHTML = docLinkHtml;\n",
              "        element.appendChild(docLink);\n",
              "      }\n",
              "    </script>\n",
              "  </div>\n",
              "\n",
              "\n",
              "<div id=\"df-9cf1e56f-3ea1-4cc2-b485-226a019bed16\">\n",
              "  <button class=\"colab-df-quickchart\" onclick=\"quickchart('df-9cf1e56f-3ea1-4cc2-b485-226a019bed16')\"\n",
              "            title=\"Suggest charts\"\n",
              "            style=\"display:none;\">\n",
              "\n",
              "<svg xmlns=\"http://www.w3.org/2000/svg\" height=\"24px\"viewBox=\"0 0 24 24\"\n",
              "     width=\"24px\">\n",
              "    <g>\n",
              "        <path d=\"M19 3H5c-1.1 0-2 .9-2 2v14c0 1.1.9 2 2 2h14c1.1 0 2-.9 2-2V5c0-1.1-.9-2-2-2zM9 17H7v-7h2v7zm4 0h-2V7h2v10zm4 0h-2v-4h2v4z\"/>\n",
              "    </g>\n",
              "</svg>\n",
              "  </button>\n",
              "\n",
              "<style>\n",
              "  .colab-df-quickchart {\n",
              "      --bg-color: #E8F0FE;\n",
              "      --fill-color: #1967D2;\n",
              "      --hover-bg-color: #E2EBFA;\n",
              "      --hover-fill-color: #174EA6;\n",
              "      --disabled-fill-color: #AAA;\n",
              "      --disabled-bg-color: #DDD;\n",
              "  }\n",
              "\n",
              "  [theme=dark] .colab-df-quickchart {\n",
              "      --bg-color: #3B4455;\n",
              "      --fill-color: #D2E3FC;\n",
              "      --hover-bg-color: #434B5C;\n",
              "      --hover-fill-color: #FFFFFF;\n",
              "      --disabled-bg-color: #3B4455;\n",
              "      --disabled-fill-color: #666;\n",
              "  }\n",
              "\n",
              "  .colab-df-quickchart {\n",
              "    background-color: var(--bg-color);\n",
              "    border: none;\n",
              "    border-radius: 50%;\n",
              "    cursor: pointer;\n",
              "    display: none;\n",
              "    fill: var(--fill-color);\n",
              "    height: 32px;\n",
              "    padding: 0;\n",
              "    width: 32px;\n",
              "  }\n",
              "\n",
              "  .colab-df-quickchart:hover {\n",
              "    background-color: var(--hover-bg-color);\n",
              "    box-shadow: 0 1px 2px rgba(60, 64, 67, 0.3), 0 1px 3px 1px rgba(60, 64, 67, 0.15);\n",
              "    fill: var(--button-hover-fill-color);\n",
              "  }\n",
              "\n",
              "  .colab-df-quickchart-complete:disabled,\n",
              "  .colab-df-quickchart-complete:disabled:hover {\n",
              "    background-color: var(--disabled-bg-color);\n",
              "    fill: var(--disabled-fill-color);\n",
              "    box-shadow: none;\n",
              "  }\n",
              "\n",
              "  .colab-df-spinner {\n",
              "    border: 2px solid var(--fill-color);\n",
              "    border-color: transparent;\n",
              "    border-bottom-color: var(--fill-color);\n",
              "    animation:\n",
              "      spin 1s steps(1) infinite;\n",
              "  }\n",
              "\n",
              "  @keyframes spin {\n",
              "    0% {\n",
              "      border-color: transparent;\n",
              "      border-bottom-color: var(--fill-color);\n",
              "      border-left-color: var(--fill-color);\n",
              "    }\n",
              "    20% {\n",
              "      border-color: transparent;\n",
              "      border-left-color: var(--fill-color);\n",
              "      border-top-color: var(--fill-color);\n",
              "    }\n",
              "    30% {\n",
              "      border-color: transparent;\n",
              "      border-left-color: var(--fill-color);\n",
              "      border-top-color: var(--fill-color);\n",
              "      border-right-color: var(--fill-color);\n",
              "    }\n",
              "    40% {\n",
              "      border-color: transparent;\n",
              "      border-right-color: var(--fill-color);\n",
              "      border-top-color: var(--fill-color);\n",
              "    }\n",
              "    60% {\n",
              "      border-color: transparent;\n",
              "      border-right-color: var(--fill-color);\n",
              "    }\n",
              "    80% {\n",
              "      border-color: transparent;\n",
              "      border-right-color: var(--fill-color);\n",
              "      border-bottom-color: var(--fill-color);\n",
              "    }\n",
              "    90% {\n",
              "      border-color: transparent;\n",
              "      border-bottom-color: var(--fill-color);\n",
              "    }\n",
              "  }\n",
              "</style>\n",
              "\n",
              "  <script>\n",
              "    async function quickchart(key) {\n",
              "      const quickchartButtonEl =\n",
              "        document.querySelector('#' + key + ' button');\n",
              "      quickchartButtonEl.disabled = true;  // To prevent multiple clicks.\n",
              "      quickchartButtonEl.classList.add('colab-df-spinner');\n",
              "      try {\n",
              "        const charts = await google.colab.kernel.invokeFunction(\n",
              "            'suggestCharts', [key], {});\n",
              "      } catch (error) {\n",
              "        console.error('Error during call to suggestCharts:', error);\n",
              "      }\n",
              "      quickchartButtonEl.classList.remove('colab-df-spinner');\n",
              "      quickchartButtonEl.classList.add('colab-df-quickchart-complete');\n",
              "    }\n",
              "    (() => {\n",
              "      let quickchartButtonEl =\n",
              "        document.querySelector('#df-9cf1e56f-3ea1-4cc2-b485-226a019bed16 button');\n",
              "      quickchartButtonEl.style.display =\n",
              "        google.colab.kernel.accessAllowed ? 'block' : 'none';\n",
              "    })();\n",
              "  </script>\n",
              "</div>\n",
              "\n",
              "    </div>\n",
              "  </div>\n"
            ],
            "application/vnd.google.colaboratory.intrinsic+json": {
              "type": "dataframe",
              "variable_name": "updated_properties"
            }
          },
          "metadata": {},
          "execution_count": 5
        }
      ]
    },
    {
      "cell_type": "code",
      "source": [
        "# If needed, save the updated dataset to a CSV file\n",
        "updated_properties.to_csv('updated_properties_2016.csv', index=False)"
      ],
      "metadata": {
        "id": "tQlD3ei-M0hV",
        "colab": {
          "base_uri": "https://localhost:8080/",
          "height": 165
        },
        "outputId": "2e3a2d39-2598-444c-b547-82e4c182d227"
      },
      "execution_count": null,
      "outputs": [
        {
          "output_type": "error",
          "ename": "NameError",
          "evalue": "name 'updated_properties' is not defined",
          "traceback": [
            "\u001b[0;31m---------------------------------------------------------------------------\u001b[0m",
            "\u001b[0;31mNameError\u001b[0m                                 Traceback (most recent call last)",
            "\u001b[0;32m<ipython-input-23-0dfdc12d64dc>\u001b[0m in \u001b[0;36m<cell line: 2>\u001b[0;34m()\u001b[0m\n\u001b[1;32m      1\u001b[0m \u001b[0;31m# If needed, save the updated dataset to a CSV file\u001b[0m\u001b[0;34m\u001b[0m\u001b[0;34m\u001b[0m\u001b[0m\n\u001b[0;32m----> 2\u001b[0;31m \u001b[0mupdated_properties\u001b[0m\u001b[0;34m.\u001b[0m\u001b[0mto_csv\u001b[0m\u001b[0;34m(\u001b[0m\u001b[0;34m'updated_properties_2016.csv'\u001b[0m\u001b[0;34m,\u001b[0m \u001b[0mindex\u001b[0m\u001b[0;34m=\u001b[0m\u001b[0;32mFalse\u001b[0m\u001b[0;34m)\u001b[0m\u001b[0;34m\u001b[0m\u001b[0;34m\u001b[0m\u001b[0m\n\u001b[0m",
            "\u001b[0;31mNameError\u001b[0m: name 'updated_properties' is not defined"
          ]
        }
      ]
    },
    {
      "cell_type": "code",
      "source": [
        "updated_properties = pd.read_csv('/content/drive/MyDrive/courses/cse519/homework2/updated_properties_2016.csv')\n",
        "updated_properties.head()"
      ],
      "metadata": {
        "colab": {
          "base_uri": "https://localhost:8080/",
          "height": 255
        },
        "id": "r9KogDl2DG3w",
        "outputId": "b4796b48-1269-4ef4-8677-46ddbb16451c"
      },
      "execution_count": null,
      "outputs": [
        {
          "output_type": "execute_result",
          "data": {
            "text/plain": [
              "   parcelid  airconditioningtypeid  architecturalstyletypeid  basementsqft  \\\n",
              "0  10711725                    1.0                       NaN           NaN   \n",
              "1  10711726                    1.0                       NaN           NaN   \n",
              "2  10711727                    1.0                       NaN           NaN   \n",
              "3  10711728                    1.0                       NaN           NaN   \n",
              "4  10711729                    1.0                       NaN           NaN   \n",
              "\n",
              "   bathroomcnt  bedroomcnt  buildingclasstypeid  buildingqualitytypeid  \\\n",
              "0          3.0         4.0                  NaN                    4.0   \n",
              "1          3.0         5.0                  NaN                    4.0   \n",
              "2          2.0         4.0                  NaN                    4.0   \n",
              "3          3.0         4.0                  NaN                    4.0   \n",
              "4          3.0         4.0                  NaN                    4.0   \n",
              "\n",
              "   calculatedbathnbr  decktypeid  ...  numberofstories  fireplaceflag  \\\n",
              "0                3.0         NaN  ...              NaN            NaN   \n",
              "1                3.0         NaN  ...              NaN            NaN   \n",
              "2                2.0         NaN  ...              NaN            NaN   \n",
              "3                3.0         NaN  ...              NaN            NaN   \n",
              "4                3.0         NaN  ...              NaN            NaN   \n",
              "\n",
              "   structuretaxvaluedollarcnt  taxvaluedollarcnt  assessmentyear  \\\n",
              "0                    183000.0           615000.0          2015.0   \n",
              "1                    217167.0           531642.0          2015.0   \n",
              "2                    195295.0           328148.0          2015.0   \n",
              "3                    188384.0           297377.0          2015.0   \n",
              "4                    178238.0           297001.0          2015.0   \n",
              "\n",
              "   landtaxvaluedollarcnt  taxamount  taxdelinquencyflag  taxdelinquencyyear  \\\n",
              "0               432000.0    8625.75                 NaN                 NaN   \n",
              "1               314475.0    6722.67                 NaN                 NaN   \n",
              "2               132853.0    4160.63                 NaN                 NaN   \n",
              "3               108993.0    3883.47                 NaN                 NaN   \n",
              "4               118763.0    3884.27                 NaN                 NaN   \n",
              "\n",
              "   censustractandblock  \n",
              "0         6.037113e+13  \n",
              "1         6.037113e+13  \n",
              "2         6.037113e+13  \n",
              "3         6.037113e+13  \n",
              "4         6.037113e+13  \n",
              "\n",
              "[5 rows x 58 columns]"
            ],
            "text/html": [
              "\n",
              "  <div id=\"df-20b9c7b3-f365-4108-b99b-58e32f276929\" class=\"colab-df-container\">\n",
              "    <div>\n",
              "<style scoped>\n",
              "    .dataframe tbody tr th:only-of-type {\n",
              "        vertical-align: middle;\n",
              "    }\n",
              "\n",
              "    .dataframe tbody tr th {\n",
              "        vertical-align: top;\n",
              "    }\n",
              "\n",
              "    .dataframe thead th {\n",
              "        text-align: right;\n",
              "    }\n",
              "</style>\n",
              "<table border=\"1\" class=\"dataframe\">\n",
              "  <thead>\n",
              "    <tr style=\"text-align: right;\">\n",
              "      <th></th>\n",
              "      <th>parcelid</th>\n",
              "      <th>airconditioningtypeid</th>\n",
              "      <th>architecturalstyletypeid</th>\n",
              "      <th>basementsqft</th>\n",
              "      <th>bathroomcnt</th>\n",
              "      <th>bedroomcnt</th>\n",
              "      <th>buildingclasstypeid</th>\n",
              "      <th>buildingqualitytypeid</th>\n",
              "      <th>calculatedbathnbr</th>\n",
              "      <th>decktypeid</th>\n",
              "      <th>...</th>\n",
              "      <th>numberofstories</th>\n",
              "      <th>fireplaceflag</th>\n",
              "      <th>structuretaxvaluedollarcnt</th>\n",
              "      <th>taxvaluedollarcnt</th>\n",
              "      <th>assessmentyear</th>\n",
              "      <th>landtaxvaluedollarcnt</th>\n",
              "      <th>taxamount</th>\n",
              "      <th>taxdelinquencyflag</th>\n",
              "      <th>taxdelinquencyyear</th>\n",
              "      <th>censustractandblock</th>\n",
              "    </tr>\n",
              "  </thead>\n",
              "  <tbody>\n",
              "    <tr>\n",
              "      <th>0</th>\n",
              "      <td>10711725</td>\n",
              "      <td>1.0</td>\n",
              "      <td>NaN</td>\n",
              "      <td>NaN</td>\n",
              "      <td>3.0</td>\n",
              "      <td>4.0</td>\n",
              "      <td>NaN</td>\n",
              "      <td>4.0</td>\n",
              "      <td>3.0</td>\n",
              "      <td>NaN</td>\n",
              "      <td>...</td>\n",
              "      <td>NaN</td>\n",
              "      <td>NaN</td>\n",
              "      <td>183000.0</td>\n",
              "      <td>615000.0</td>\n",
              "      <td>2015.0</td>\n",
              "      <td>432000.0</td>\n",
              "      <td>8625.75</td>\n",
              "      <td>NaN</td>\n",
              "      <td>NaN</td>\n",
              "      <td>6.037113e+13</td>\n",
              "    </tr>\n",
              "    <tr>\n",
              "      <th>1</th>\n",
              "      <td>10711726</td>\n",
              "      <td>1.0</td>\n",
              "      <td>NaN</td>\n",
              "      <td>NaN</td>\n",
              "      <td>3.0</td>\n",
              "      <td>5.0</td>\n",
              "      <td>NaN</td>\n",
              "      <td>4.0</td>\n",
              "      <td>3.0</td>\n",
              "      <td>NaN</td>\n",
              "      <td>...</td>\n",
              "      <td>NaN</td>\n",
              "      <td>NaN</td>\n",
              "      <td>217167.0</td>\n",
              "      <td>531642.0</td>\n",
              "      <td>2015.0</td>\n",
              "      <td>314475.0</td>\n",
              "      <td>6722.67</td>\n",
              "      <td>NaN</td>\n",
              "      <td>NaN</td>\n",
              "      <td>6.037113e+13</td>\n",
              "    </tr>\n",
              "    <tr>\n",
              "      <th>2</th>\n",
              "      <td>10711727</td>\n",
              "      <td>1.0</td>\n",
              "      <td>NaN</td>\n",
              "      <td>NaN</td>\n",
              "      <td>2.0</td>\n",
              "      <td>4.0</td>\n",
              "      <td>NaN</td>\n",
              "      <td>4.0</td>\n",
              "      <td>2.0</td>\n",
              "      <td>NaN</td>\n",
              "      <td>...</td>\n",
              "      <td>NaN</td>\n",
              "      <td>NaN</td>\n",
              "      <td>195295.0</td>\n",
              "      <td>328148.0</td>\n",
              "      <td>2015.0</td>\n",
              "      <td>132853.0</td>\n",
              "      <td>4160.63</td>\n",
              "      <td>NaN</td>\n",
              "      <td>NaN</td>\n",
              "      <td>6.037113e+13</td>\n",
              "    </tr>\n",
              "    <tr>\n",
              "      <th>3</th>\n",
              "      <td>10711728</td>\n",
              "      <td>1.0</td>\n",
              "      <td>NaN</td>\n",
              "      <td>NaN</td>\n",
              "      <td>3.0</td>\n",
              "      <td>4.0</td>\n",
              "      <td>NaN</td>\n",
              "      <td>4.0</td>\n",
              "      <td>3.0</td>\n",
              "      <td>NaN</td>\n",
              "      <td>...</td>\n",
              "      <td>NaN</td>\n",
              "      <td>NaN</td>\n",
              "      <td>188384.0</td>\n",
              "      <td>297377.0</td>\n",
              "      <td>2015.0</td>\n",
              "      <td>108993.0</td>\n",
              "      <td>3883.47</td>\n",
              "      <td>NaN</td>\n",
              "      <td>NaN</td>\n",
              "      <td>6.037113e+13</td>\n",
              "    </tr>\n",
              "    <tr>\n",
              "      <th>4</th>\n",
              "      <td>10711729</td>\n",
              "      <td>1.0</td>\n",
              "      <td>NaN</td>\n",
              "      <td>NaN</td>\n",
              "      <td>3.0</td>\n",
              "      <td>4.0</td>\n",
              "      <td>NaN</td>\n",
              "      <td>4.0</td>\n",
              "      <td>3.0</td>\n",
              "      <td>NaN</td>\n",
              "      <td>...</td>\n",
              "      <td>NaN</td>\n",
              "      <td>NaN</td>\n",
              "      <td>178238.0</td>\n",
              "      <td>297001.0</td>\n",
              "      <td>2015.0</td>\n",
              "      <td>118763.0</td>\n",
              "      <td>3884.27</td>\n",
              "      <td>NaN</td>\n",
              "      <td>NaN</td>\n",
              "      <td>6.037113e+13</td>\n",
              "    </tr>\n",
              "  </tbody>\n",
              "</table>\n",
              "<p>5 rows × 58 columns</p>\n",
              "</div>\n",
              "    <div class=\"colab-df-buttons\">\n",
              "\n",
              "  <div class=\"colab-df-container\">\n",
              "    <button class=\"colab-df-convert\" onclick=\"convertToInteractive('df-20b9c7b3-f365-4108-b99b-58e32f276929')\"\n",
              "            title=\"Convert this dataframe to an interactive table.\"\n",
              "            style=\"display:none;\">\n",
              "\n",
              "  <svg xmlns=\"http://www.w3.org/2000/svg\" height=\"24px\" viewBox=\"0 -960 960 960\">\n",
              "    <path d=\"M120-120v-720h720v720H120Zm60-500h600v-160H180v160Zm220 220h160v-160H400v160Zm0 220h160v-160H400v160ZM180-400h160v-160H180v160Zm440 0h160v-160H620v160ZM180-180h160v-160H180v160Zm440 0h160v-160H620v160Z\"/>\n",
              "  </svg>\n",
              "    </button>\n",
              "\n",
              "  <style>\n",
              "    .colab-df-container {\n",
              "      display:flex;\n",
              "      gap: 12px;\n",
              "    }\n",
              "\n",
              "    .colab-df-convert {\n",
              "      background-color: #E8F0FE;\n",
              "      border: none;\n",
              "      border-radius: 50%;\n",
              "      cursor: pointer;\n",
              "      display: none;\n",
              "      fill: #1967D2;\n",
              "      height: 32px;\n",
              "      padding: 0 0 0 0;\n",
              "      width: 32px;\n",
              "    }\n",
              "\n",
              "    .colab-df-convert:hover {\n",
              "      background-color: #E2EBFA;\n",
              "      box-shadow: 0px 1px 2px rgba(60, 64, 67, 0.3), 0px 1px 3px 1px rgba(60, 64, 67, 0.15);\n",
              "      fill: #174EA6;\n",
              "    }\n",
              "\n",
              "    .colab-df-buttons div {\n",
              "      margin-bottom: 4px;\n",
              "    }\n",
              "\n",
              "    [theme=dark] .colab-df-convert {\n",
              "      background-color: #3B4455;\n",
              "      fill: #D2E3FC;\n",
              "    }\n",
              "\n",
              "    [theme=dark] .colab-df-convert:hover {\n",
              "      background-color: #434B5C;\n",
              "      box-shadow: 0px 1px 3px 1px rgba(0, 0, 0, 0.15);\n",
              "      filter: drop-shadow(0px 1px 2px rgba(0, 0, 0, 0.3));\n",
              "      fill: #FFFFFF;\n",
              "    }\n",
              "  </style>\n",
              "\n",
              "    <script>\n",
              "      const buttonEl =\n",
              "        document.querySelector('#df-20b9c7b3-f365-4108-b99b-58e32f276929 button.colab-df-convert');\n",
              "      buttonEl.style.display =\n",
              "        google.colab.kernel.accessAllowed ? 'block' : 'none';\n",
              "\n",
              "      async function convertToInteractive(key) {\n",
              "        const element = document.querySelector('#df-20b9c7b3-f365-4108-b99b-58e32f276929');\n",
              "        const dataTable =\n",
              "          await google.colab.kernel.invokeFunction('convertToInteractive',\n",
              "                                                    [key], {});\n",
              "        if (!dataTable) return;\n",
              "\n",
              "        const docLinkHtml = 'Like what you see? Visit the ' +\n",
              "          '<a target=\"_blank\" href=https://colab.research.google.com/notebooks/data_table.ipynb>data table notebook</a>'\n",
              "          + ' to learn more about interactive tables.';\n",
              "        element.innerHTML = '';\n",
              "        dataTable['output_type'] = 'display_data';\n",
              "        await google.colab.output.renderOutput(dataTable, element);\n",
              "        const docLink = document.createElement('div');\n",
              "        docLink.innerHTML = docLinkHtml;\n",
              "        element.appendChild(docLink);\n",
              "      }\n",
              "    </script>\n",
              "  </div>\n",
              "\n",
              "\n",
              "<div id=\"df-3f8d00d4-fc91-4bc1-8dbb-22b282535bfb\">\n",
              "  <button class=\"colab-df-quickchart\" onclick=\"quickchart('df-3f8d00d4-fc91-4bc1-8dbb-22b282535bfb')\"\n",
              "            title=\"Suggest charts\"\n",
              "            style=\"display:none;\">\n",
              "\n",
              "<svg xmlns=\"http://www.w3.org/2000/svg\" height=\"24px\"viewBox=\"0 0 24 24\"\n",
              "     width=\"24px\">\n",
              "    <g>\n",
              "        <path d=\"M19 3H5c-1.1 0-2 .9-2 2v14c0 1.1.9 2 2 2h14c1.1 0 2-.9 2-2V5c0-1.1-.9-2-2-2zM9 17H7v-7h2v7zm4 0h-2V7h2v10zm4 0h-2v-4h2v4z\"/>\n",
              "    </g>\n",
              "</svg>\n",
              "  </button>\n",
              "\n",
              "<style>\n",
              "  .colab-df-quickchart {\n",
              "      --bg-color: #E8F0FE;\n",
              "      --fill-color: #1967D2;\n",
              "      --hover-bg-color: #E2EBFA;\n",
              "      --hover-fill-color: #174EA6;\n",
              "      --disabled-fill-color: #AAA;\n",
              "      --disabled-bg-color: #DDD;\n",
              "  }\n",
              "\n",
              "  [theme=dark] .colab-df-quickchart {\n",
              "      --bg-color: #3B4455;\n",
              "      --fill-color: #D2E3FC;\n",
              "      --hover-bg-color: #434B5C;\n",
              "      --hover-fill-color: #FFFFFF;\n",
              "      --disabled-bg-color: #3B4455;\n",
              "      --disabled-fill-color: #666;\n",
              "  }\n",
              "\n",
              "  .colab-df-quickchart {\n",
              "    background-color: var(--bg-color);\n",
              "    border: none;\n",
              "    border-radius: 50%;\n",
              "    cursor: pointer;\n",
              "    display: none;\n",
              "    fill: var(--fill-color);\n",
              "    height: 32px;\n",
              "    padding: 0;\n",
              "    width: 32px;\n",
              "  }\n",
              "\n",
              "  .colab-df-quickchart:hover {\n",
              "    background-color: var(--hover-bg-color);\n",
              "    box-shadow: 0 1px 2px rgba(60, 64, 67, 0.3), 0 1px 3px 1px rgba(60, 64, 67, 0.15);\n",
              "    fill: var(--button-hover-fill-color);\n",
              "  }\n",
              "\n",
              "  .colab-df-quickchart-complete:disabled,\n",
              "  .colab-df-quickchart-complete:disabled:hover {\n",
              "    background-color: var(--disabled-bg-color);\n",
              "    fill: var(--disabled-fill-color);\n",
              "    box-shadow: none;\n",
              "  }\n",
              "\n",
              "  .colab-df-spinner {\n",
              "    border: 2px solid var(--fill-color);\n",
              "    border-color: transparent;\n",
              "    border-bottom-color: var(--fill-color);\n",
              "    animation:\n",
              "      spin 1s steps(1) infinite;\n",
              "  }\n",
              "\n",
              "  @keyframes spin {\n",
              "    0% {\n",
              "      border-color: transparent;\n",
              "      border-bottom-color: var(--fill-color);\n",
              "      border-left-color: var(--fill-color);\n",
              "    }\n",
              "    20% {\n",
              "      border-color: transparent;\n",
              "      border-left-color: var(--fill-color);\n",
              "      border-top-color: var(--fill-color);\n",
              "    }\n",
              "    30% {\n",
              "      border-color: transparent;\n",
              "      border-left-color: var(--fill-color);\n",
              "      border-top-color: var(--fill-color);\n",
              "      border-right-color: var(--fill-color);\n",
              "    }\n",
              "    40% {\n",
              "      border-color: transparent;\n",
              "      border-right-color: var(--fill-color);\n",
              "      border-top-color: var(--fill-color);\n",
              "    }\n",
              "    60% {\n",
              "      border-color: transparent;\n",
              "      border-right-color: var(--fill-color);\n",
              "    }\n",
              "    80% {\n",
              "      border-color: transparent;\n",
              "      border-right-color: var(--fill-color);\n",
              "      border-bottom-color: var(--fill-color);\n",
              "    }\n",
              "    90% {\n",
              "      border-color: transparent;\n",
              "      border-bottom-color: var(--fill-color);\n",
              "    }\n",
              "  }\n",
              "</style>\n",
              "\n",
              "  <script>\n",
              "    async function quickchart(key) {\n",
              "      const quickchartButtonEl =\n",
              "        document.querySelector('#' + key + ' button');\n",
              "      quickchartButtonEl.disabled = true;  // To prevent multiple clicks.\n",
              "      quickchartButtonEl.classList.add('colab-df-spinner');\n",
              "      try {\n",
              "        const charts = await google.colab.kernel.invokeFunction(\n",
              "            'suggestCharts', [key], {});\n",
              "      } catch (error) {\n",
              "        console.error('Error during call to suggestCharts:', error);\n",
              "      }\n",
              "      quickchartButtonEl.classList.remove('colab-df-spinner');\n",
              "      quickchartButtonEl.classList.add('colab-df-quickchart-complete');\n",
              "    }\n",
              "    (() => {\n",
              "      let quickchartButtonEl =\n",
              "        document.querySelector('#df-3f8d00d4-fc91-4bc1-8dbb-22b282535bfb button');\n",
              "      quickchartButtonEl.style.display =\n",
              "        google.colab.kernel.accessAllowed ? 'block' : 'none';\n",
              "    })();\n",
              "  </script>\n",
              "</div>\n",
              "\n",
              "    </div>\n",
              "  </div>\n"
            ],
            "application/vnd.google.colaboratory.intrinsic+json": {
              "type": "dataframe",
              "variable_name": "updated_properties"
            }
          },
          "metadata": {},
          "execution_count": 24
        }
      ]
    },
    {
      "cell_type": "markdown",
      "source": [
        "**Checking for Nan Values**"
      ],
      "metadata": {
        "id": "WQQJSa10sKFQ"
      }
    },
    {
      "cell_type": "code",
      "source": [
        "\n",
        "\n",
        "features_to_check = ['taxvaluedollarcnt', 'calculatedfinishedsquarefeet',\n",
        "                     'lotsizesquarefeet', 'bathroomcnt', 'bedroomcnt',\n",
        "                     ]\n",
        "\n",
        "# Check for null values in selected features\n",
        "null_counts = updated_properties[features_to_check].isnull().sum()\n",
        "\n",
        "# Display the count of null values for each feature\n",
        "print(\"Count of Null Values in Selected Features:\")\n",
        "print(null_counts)\n",
        "\n",
        "# Total number of rows in the DataFrame\n",
        "total_rows = updated_properties.shape[0]\n",
        "print(\"\\nTotal Rows Available:\", total_rows)\n",
        "\n",
        "# Calculate the percentage of missing data for each feature\n",
        "missing_percentage = (null_counts / total_rows) * 100\n",
        "\n",
        "# Display the percentage of missing data\n",
        "print(\"\\nPercentage of Missing Data:\")\n",
        "print(missing_percentage)\n"
      ],
      "metadata": {
        "colab": {
          "base_uri": "https://localhost:8080/"
        },
        "id": "bi4gqdg-ifAZ",
        "outputId": "f452a893-f7db-4a50-9d24-44806803b96f"
      },
      "execution_count": null,
      "outputs": [
        {
          "output_type": "stream",
          "name": "stdout",
          "text": [
            "Count of Null Values in Selected Features:\n",
            "taxvaluedollarcnt                 0\n",
            "calculatedfinishedsquarefeet    201\n",
            "lotsizesquarefeet               203\n",
            "bathroomcnt                       0\n",
            "bedroomcnt                        0\n",
            "dtype: int64\n",
            "\n",
            "Total Rows Available: 32575\n",
            "\n",
            "Percentage of Missing Data:\n",
            "taxvaluedollarcnt               0.000000\n",
            "calculatedfinishedsquarefeet    0.617038\n",
            "lotsizesquarefeet               0.623177\n",
            "bathroomcnt                     0.000000\n",
            "bedroomcnt                      0.000000\n",
            "dtype: float64\n"
          ]
        }
      ]
    },
    {
      "cell_type": "markdown",
      "source": [
        "**Removing Naan values**"
      ],
      "metadata": {
        "id": "K_vzlhd6sPLV"
      }
    },
    {
      "cell_type": "code",
      "source": [
        "\n",
        "# Drop rows with any missing values in the specified features\n",
        "temp=updated_properties.shape\n",
        "updated_properties.dropna(subset=features_to_check,inplace=True)\n",
        "df_cleaned = updated_properties.copy()\n",
        "# Check the shape of the cleaned DataFrame\n",
        "print(\"Original DataFrame shape:\", temp)\n",
        "print(\"Cleaned DataFrame shape:\", df_cleaned.shape)\n",
        "\n",
        "# Optional: Display the number of rows removed\n",
        "rows_removed = temp[0] - df_cleaned.shape[0]\n",
        "print(\"Number of rows removed:\", rows_removed)"
      ],
      "metadata": {
        "colab": {
          "base_uri": "https://localhost:8080/"
        },
        "id": "j-3lfZXrmO_6",
        "outputId": "9426eb83-773e-4cca-e58f-5448a1170be6"
      },
      "execution_count": null,
      "outputs": [
        {
          "output_type": "stream",
          "name": "stdout",
          "text": [
            "Original DataFrame shape: (32575, 58)\n",
            "Cleaned DataFrame shape: (32178, 58)\n",
            "Number of rows removed: 397\n"
          ]
        }
      ]
    },
    {
      "cell_type": "code",
      "source": [],
      "metadata": {
        "id": "bB7czulPzL4c"
      },
      "execution_count": null,
      "outputs": []
    },
    {
      "cell_type": "markdown",
      "source": [
        "**Normalizing data**"
      ],
      "metadata": {
        "id": "9SpeE-4Fsqsv"
      }
    },
    {
      "cell_type": "code",
      "source": [
        "\n",
        "scaler = MinMaxScaler()\n",
        "df_cleaned[features_to_check] = scaler.fit_transform(df_cleaned[features_to_check])\n",
        "\n"
      ],
      "metadata": {
        "id": "xxR2bu5Wz-Ah"
      },
      "execution_count": null,
      "outputs": []
    },
    {
      "cell_type": "code",
      "source": [
        "\n",
        "def compute_desirability_score(row):\n",
        "    score = 0\n",
        "    # Weighted sum of normalized features\n",
        "    score += 0.325 * row['taxvaluedollarcnt']\n",
        "    score += 0.275 * row['calculatedfinishedsquarefeet']\n",
        "    score += 0.175 * row['lotsizesquarefeet']\n",
        "    score += 0.125 * row['bathroomcnt']\n",
        "    score += 0.10 * row['bedroomcnt']\n",
        "    return score\n",
        "\n",
        "# Apply the scoring function to each row\n",
        "df_cleaned['desirability_score'] = df_cleaned.apply(compute_desirability_score, axis=1)\n",
        "\n"
      ],
      "metadata": {
        "id": "jDWL9uIU8N7r"
      },
      "execution_count": null,
      "outputs": []
    },
    {
      "cell_type": "code",
      "source": [
        "# Sorting the DataFrame by the desirability score\n",
        "df_sorted = df_cleaned.sort_values(by='desirability_score', ascending=False)\n",
        "\n",
        "top_10_desirable = df_sorted.head(10)\n",
        "\n",
        "bottom_10_desirable = df_sorted.tail(10)\n",
        "\n",
        "# Displaying the top and bottom 10 houses\n",
        "print(\"Top 10 Most Desirable Houses:\\n\", top_10_desirable[['parcelid', 'desirability_score','taxvaluedollarcnt']])\n",
        "print(\"\\nBottom 10 Least Desirable Houses:\\n\", bottom_10_desirable[['parcelid', 'desirability_score','taxvaluedollarcnt']])\n"
      ],
      "metadata": {
        "colab": {
          "base_uri": "https://localhost:8080/"
        },
        "id": "os3lfXOHCxfL",
        "outputId": "83c90ea3-5fa7-4a56-80d3-4be038dcf1c5"
      },
      "execution_count": null,
      "outputs": [
        {
          "output_type": "stream",
          "name": "stdout",
          "text": [
            "Top 10 Most Desirable Houses:\n",
            "        parcelid  desirability_score  taxvaluedollarcnt\n",
            "23458  10736912            0.693583           1.000000\n",
            "23396  10736833            0.481723           0.368174\n",
            "23957  10737546            0.477926           0.453569\n",
            "23952  10737540            0.472620           0.596609\n",
            "24479  10738097            0.467070           0.386291\n",
            "23431  10736881            0.456682           0.206649\n",
            "24478  10738096            0.419838           0.364145\n",
            "24474  10738092            0.406852           0.406893\n",
            "23440  10736891            0.405491           0.368759\n",
            "23432  10736882            0.402002           0.402531\n",
            "\n",
            "Bottom 10 Least Desirable Houses:\n",
            "        parcelid  desirability_score  taxvaluedollarcnt\n",
            "18298  10731376            0.006030           0.006046\n",
            "17922  10730954            0.004837           0.004116\n",
            "1488   10713620            0.004681           0.000696\n",
            "18024  10731068            0.004092           0.005397\n",
            "1309   10713128            0.003939           0.000924\n",
            "32345  10746795            0.003484           0.001656\n",
            "5106   10717765            0.003337           0.000296\n",
            "5004   10717550            0.003006           0.002008\n",
            "1439   10713538            0.002541           0.001910\n",
            "1332   10713232            0.002175           0.001255\n"
          ]
        }
      ]
    },
    {
      "cell_type": "markdown",
      "source": [],
      "metadata": {
        "id": "bS0qmd7Rd923"
      }
    },
    {
      "cell_type": "markdown",
      "source": [
        "## **Q2: Pairwise Distance Function for Property Similarity (10 Points)**\n"
      ],
      "metadata": {
        "id": "yOsF2XLc41Gt"
      }
    },
    {
      "cell_type": "markdown",
      "source": [
        "**Define a house “pairwise distance function”, which measures the similarity of two properties. Like a distance metric, similar pairs of very similar properties should bedistance near zero, with distance increasing as the properties grow more dissimilar.Experiment with your distance function, and present your evaluation of how well youthink it worked. Your function should include geographic as well as property-specific variables. (10%)**"
      ],
      "metadata": {
        "id": "ameE3YEAd8z-"
      }
    },
    {
      "cell_type": "markdown",
      "source": [
        "Ans)\n",
        "To define a house \"pairwise distance function\" that measures the similarity of two properties, I have used a combination of geographic and property-specific variables.\n",
        "\n",
        "**1)**To Build the Pairwise Distance Function I have selected the following features:\n",
        "\n",
        "Geographic Variables:\n",
        "latitude, longitude to calculate geodesic distance between the properties\n",
        "\n",
        "Property-Specific Variables:\n",
        "calculatedfinishedsquarefeet: Size of the property.\n",
        "bedroomcnt: Number of bedrooms.\n",
        "bathroomcnt: Number of bathrooms.\n",
        "yearbuilt: The year the house was built.\n",
        "taxvaluedollarcnt: Tax assessed value of the property.\n",
        "lotsizesquarefeet\n",
        "\n",
        "**2)**Since the features are on different scales (e.g., square footage is in thousands while the number of bedrooms is typically a single digit) I have normalized data\n",
        "\n",
        "**3)**After getting enough data i have opted out to give equal weightage to both geographic data and property related data.and then calculated data for pair of properties.\n",
        "\n"
      ],
      "metadata": {
        "id": "-recw1SetWv3"
      }
    },
    {
      "cell_type": "code",
      "source": [
        "def house_pairwise_distance(house1, house2, weights, feature_scaler=None,max_geo_distance=1):\n",
        "    # Geographic distance calculation using latitude and longitude\n",
        "    geo_coords1 = (house1['latitude'], house1['longitude'])\n",
        "    geo_coords2 = (house2['latitude'], house2['longitude'])\n",
        "\n",
        "    # Calculate the geographic distance (in kilometers)\n",
        "    d_geo = geodesic(geo_coords1, geo_coords2).km/max_geo_distance\n",
        "    #print('Distance'+str(distance))\n",
        "\n",
        "    # Property-specific distances\n",
        "    property_features1 = np.array([house1['calculatedfinishedsquarefeet'],\n",
        "                                   house1['bedroomcnt'],\n",
        "                                   house1['bathroomcnt'],\n",
        "                                   house1['taxvaluedollarcnt'],\n",
        "                                   house1['yearbuilt'],house1['lotsizesquarefeet']])\n",
        "\n",
        "    property_features2 = np.array([house2['calculatedfinishedsquarefeet'],\n",
        "                                   house2['bedroomcnt'],\n",
        "                                   house2['bathroomcnt'],\n",
        "                                   house2['taxvaluedollarcnt'],\n",
        "                                   house2['yearbuilt'],house2['lotsizesquarefeet']])\n",
        "\n",
        "    # Normalize the property-specific features if a scaler is provided\n",
        "    if feature_scaler:\n",
        "        property_features1 = feature_scaler.transform([property_features1])[0]\n",
        "        property_features2 = feature_scaler.transform([property_features2])[0]\n",
        "\n",
        "    # Calculate the absolute difference for property-specific features\n",
        "    d_property = np.sum(np.abs(property_features1 - property_features2))\n",
        "\n",
        "    # Combine the geographic and property distances using weights\n",
        "    d_total = weights['geo'] * d_geo + weights['property'] * d_property\n",
        "\n",
        "    return d_total"
      ],
      "metadata": {
        "id": "aEE5dt7Y3A07"
      },
      "execution_count": null,
      "outputs": []
    },
    {
      "cell_type": "markdown",
      "source": [],
      "metadata": {
        "id": "ysKYZSATGqSA"
      }
    },
    {
      "cell_type": "code",
      "source": [
        "distance_dataframe= updated_properties[['parcelid', 'latitude', 'longitude', 'lotsizesquarefeet','calculatedfinishedsquarefeet',\n",
        "        'bedroomcnt', 'bathroomcnt', 'taxvaluedollarcnt', 'yearbuilt']]  #null values have been cleared yearrbuilt should be cleared\n",
        "\n",
        "null_counts = distance_dataframe[['parcelid','latitude', 'longitude','yearbuilt']].isnull().sum()\n",
        "\n",
        "distance_dataframe.dropna(subset=['yearbuilt'], inplace=True)\n",
        "\n",
        "distance_dataframe['latitude'] = distance_dataframe['latitude'] / 1e6\n",
        "distance_dataframe['longitude'] = distance_dataframe['longitude'] / 1e6\n",
        "\n",
        "house1 = distance_dataframe.iloc[0]\n",
        "house2 = distance_dataframe.iloc[1]\n",
        "house3 = distance_dataframe.iloc[40]\n",
        "\n",
        "# Weights for geographic and property-specific distances\n",
        "weights = {'geo': 0.2, 'property': 0.8}\n",
        "\n",
        "# Normalize the property-specific features across all houses\n",
        "all_property_features = distance_dataframe[['calculatedfinishedsquarefeet',\n",
        "                                     'bedroomcnt',\n",
        "                                     'bathroomcnt',\n",
        "                                     'taxvaluedollarcnt',\n",
        "                                     'yearbuilt', 'lotsizesquarefeet']].values\n",
        "feature_scaler = MinMaxScaler()\n",
        "feature_scaler.fit(all_property_features)\n",
        "\n",
        "# # Calculate pairwise distance between the two selected houses\n",
        "distance1 = house_pairwise_distance(house1, house2, weights, feature_scaler)\n",
        "distance2 = house_pairwise_distance(house3, house2, weights, feature_scaler)\n",
        "print(f\"Pairwise Distance between Property {int(house1['parcelid'])} and Property {int(house2['parcelid'])}: {distance1}\")\n",
        "print(f\"Pairwise Distance between Property {int(house3['parcelid'])} and Property {int(house2['parcelid'])}: {distance2}\")"
      ],
      "metadata": {
        "id": "bWMsmptg48b7",
        "colab": {
          "base_uri": "https://localhost:8080/"
        },
        "outputId": "2e3e03e2-29ac-40ce-b8b4-14f9f09642b2"
      },
      "execution_count": null,
      "outputs": [
        {
          "output_type": "stream",
          "name": "stdout",
          "text": [
            "Pairwise Distance between Property 10711725 and Property 10711726: 0.10751281397331612\n",
            "Pairwise Distance between Property 10711765 and Property 10711726: 0.37563027251584186\n"
          ]
        }
      ]
    },
    {
      "cell_type": "markdown",
      "source": [
        "**Observed that (10711725,10711726)are more close when compared to (10711765,10711726)**"
      ],
      "metadata": {
        "id": "ySrttKcCAlbe"
      }
    },
    {
      "cell_type": "markdown",
      "source": [
        "## **Q3: Clustering Properties Using Distance Metrics (15 Points)**\n"
      ],
      "metadata": {
        "id": "eeiLbfM949I1"
      }
    },
    {
      "cell_type": "markdown",
      "source": [
        "**Using your distance function and an appropriate clustering algorithm (presumably k-means or DBScan), cluster the houses using your distance function into 10 to 100 classes, as you see best. Present a dot-plot/map (with tiny dots colored to reflect the clustering) illustrating the clusters your method produced. Give a discussion/analysis of what your clusters seem to be capturing, and how well they work. (15%)**"
      ],
      "metadata": {
        "id": "t57iqRHqAX7Y"
      }
    },
    {
      "cell_type": "code",
      "source": [
        "distance_dataframe1= updated_properties[['parcelid', 'latitude', 'longitude', 'lotsizesquarefeet','calculatedfinishedsquarefeet',\n",
        "        'bedroomcnt', 'bathroomcnt', 'taxvaluedollarcnt', 'yearbuilt']]  #null values have been cleared yearrbuilt should be cleared\n",
        "\n",
        "distance_dataframe_sample = distance_dataframe1.sample(n=500, random_state=42).reset_index(drop=True)\n",
        "# Drop missing values\n",
        "distance_dataframe_sample.dropna(inplace=True)\n",
        "\n",
        "# Convert latitude and longitude to decimal degrees\n",
        "distance_dataframe_sample['latitude'] = distance_dataframe_sample['latitude'] / 1e6\n",
        "distance_dataframe_sample['longitude'] = distance_dataframe_sample['longitude'] / 1e6\n",
        "\n",
        "\n",
        "# Step 3: Create a distance matrix using the custom distance function\n",
        "n_houses1 = len(distance_dataframe_sample)\n",
        "distance_matrix1 = np.zeros((n_houses1, n_houses1))\n",
        "\n",
        "weights = {'geo': 0.5, 'property': 0.5}\n",
        "geo_coords = distance_dataframe_sample[['latitude', 'longitude']].values\n",
        "max_geo_distance = 0\n",
        "\n",
        "for i in range(len(geo_coords)):\n",
        "    for j in range(i + 1, len(geo_coords)):\n",
        "        dist = geodesic(geo_coords[i], geo_coords[j]).km\n",
        "        if dist > max_geo_distance:\n",
        "            max_geo_distance = dist\n",
        "\n",
        "for i in range(n_houses1):\n",
        "    for j in range(i + 1, n_houses1):\n",
        "        distance = house_pairwise_distance(distance_dataframe_sample.iloc[i], distance_dataframe_sample.iloc[j], weights, feature_scaler,max_geo_distance)\n",
        "        distance_matrix1[i, j] = distance\n",
        "        distance_matrix1[j, i] = distance  # Symmetric matrix\n",
        "\n",
        "\n",
        "\n"
      ],
      "metadata": {
        "id": "ex2XLcEJBiBr"
      },
      "execution_count": null,
      "outputs": []
    },
    {
      "cell_type": "code",
      "source": [
        "# Step 4: Apply DBSCAN clustering using the custom distance matrix\n",
        "dbscan = DBSCAN(metric='precomputed', eps=1.5, min_samples=5)\n",
        "distance_dataframe_sample['cluster'] = dbscan.fit_predict(distance_matrix1)"
      ],
      "metadata": {
        "id": "lBkqxopTMUrI"
      },
      "execution_count": null,
      "outputs": []
    },
    {
      "cell_type": "code",
      "source": [
        "# Step 5: Plot the clusters in longitude-latitude space\n",
        "plt.figure(figsize=(12, 8))\n",
        "scatter = plt.scatter(distance_dataframe_sample['longitude'], distance_dataframe_sample['latitude'],\n",
        "                      c=distance_dataframe_sample['cluster'], cmap='tab10', s=10)  # 'tab10' for distinct colors\n",
        "plt.colorbar(scatter, label='Cluster')\n",
        "plt.title('House Clusters Based on Custom Distance Function (Longitude-Latitude Space)')\n",
        "plt.xlabel('Longitude')\n",
        "plt.ylabel('Latitude')\n",
        "plt.grid()\n",
        "plt.show()\n",
        "\n",
        "# Step 6: Analyze the clusters\n",
        "for cluster in sorted(distance_dataframe_sample['cluster'].unique()):\n",
        "    cluster_data = distance_dataframe_sample[distance_dataframe_sample['cluster'] == cluster]\n",
        "    print(f\"Cluster {cluster}:\")\n",
        "    print(cluster_data[['parcelid', 'latitude', 'longitude', 'calculatedfinishedsquarefeet',\n",
        "                        'bedroomcnt', 'bathroomcnt', 'taxvaluedollarcnt', 'yearbuilt']].describe())\n",
        "    print(\"\\n\")"
      ],
      "metadata": {
        "colab": {
          "base_uri": "https://localhost:8080/",
          "height": 1000
        },
        "id": "XP6tLX6gMIHy",
        "outputId": "1d93c079-c371-42a7-cd03-6aab2355f81a"
      },
      "execution_count": null,
      "outputs": [
        {
          "output_type": "display_data",
          "data": {
            "text/plain": [
              "<Figure size 1200x800 with 2 Axes>"
            ],
            "image/png": "[encoded data removed]"
          },
          "metadata": {}
        },
        {
          "output_type": "stream",
          "name": "stdout",
          "text": [
            "Cluster 0:\n",
            "           parcelid    latitude   longitude  calculatedfinishedsquarefeet  \\\n",
            "count  5.000000e+02  500.000000  500.000000                    500.000000   \n",
            "mean   1.073006e+07   34.183065 -118.671460                   2189.130000   \n",
            "std    9.821274e+03    0.024274    0.063152                   1054.859824   \n",
            "min    1.071181e+07   34.120721 -118.823910                    471.000000   \n",
            "25%    1.072185e+07   34.162765 -118.718977                   1563.750000   \n",
            "50%    1.073033e+07   34.182800 -118.645010                   1939.000000   \n",
            "75%    1.073878e+07   34.202895 -118.624304                   2541.500000   \n",
            "max    1.074722e+07   34.240285 -118.604318                   7239.000000   \n",
            "\n",
            "       bedroomcnt  bathroomcnt  taxvaluedollarcnt    yearbuilt  \n",
            "count  500.000000   500.000000       5.000000e+02   500.000000  \n",
            "mean     3.622000     2.660000       4.827064e+05  1970.192000  \n",
            "std      0.970051     0.960336       3.698306e+05    13.135914  \n",
            "min      0.000000     0.000000       5.809500e+04  1946.000000  \n",
            "25%      3.000000     2.000000       2.515500e+05  1960.000000  \n",
            "50%      4.000000     3.000000       4.184120e+05  1965.500000  \n",
            "75%      4.000000     3.000000       6.087500e+05  1980.000000  \n",
            "max      7.000000     7.000000       3.400000e+06  2015.000000  \n",
            "\n",
            "\n"
          ]
        }
      ]
    },
    {
      "cell_type": "markdown",
      "source": [
        "**Kmeans**"
      ],
      "metadata": {
        "id": "DKiUJhUJMDgm"
      }
    },
    {
      "cell_type": "code",
      "source": [
        "# sampled_data = distance_dataframe.sample(n=200, random_state=42)\n",
        "\n",
        "n_houses = len(distance_dataframe_sample)\n",
        "distance_matrix = np.zeros((n_houses, n_houses))\n",
        "\n",
        "weights = {'geo': 0.7, 'property': 0.3}\n",
        "\n",
        "geo_coords = distance_dataframe_sample[['latitude', 'longitude']].values\n",
        "max_geo_distance = 0\n",
        "\n",
        "for i in range(len(geo_coords)):\n",
        "    for j in range(i + 1, len(geo_coords)):\n",
        "        dist = geodesic(geo_coords[i], geo_coords[j]).km\n",
        "        if dist > max_geo_distance:\n",
        "            max_geo_distance = dist\n",
        "\n",
        "# print(max_geo_distance)\n",
        "\n",
        "# Create a distance matrix\n",
        "n_houses = len(distance_dataframe_sample)\n",
        "distance_matrix = np.zeros((n_houses, n_houses))\n",
        "\n",
        "# Fill the distance matrix\n",
        "for i in range(n_houses):\n",
        "    for j in range(i + 1, n_houses):\n",
        "        distance = house_pairwise_distance(distance_dataframe_sample.iloc[i], distance_dataframe_sample.iloc[j], weights, feature_scaler,max_geo_distance)\n",
        "        distance_matrix[i, j] = distance\n",
        "        distance_matrix[j, i] = distance  # Symmetric matrix\n",
        "\n"
      ],
      "metadata": {
        "id": "aA8v7Cdg5F4m"
      },
      "execution_count": null,
      "outputs": []
    },
    {
      "cell_type": "code",
      "source": [],
      "metadata": {
        "id": "RKxa_k78BmvH"
      },
      "execution_count": null,
      "outputs": []
    },
    {
      "cell_type": "code",
      "source": [
        "# Perform K-Means clustering\n",
        "num_clusters = 10  # You can change this number to adjust the number of clusters\n",
        "kmeans = KMeans(n_clusters=num_clusters, random_state=42)\n",
        "distance_dataframe_sample['cluster'] = kmeans.fit_predict(distance_matrix)\n",
        "\n"
      ],
      "metadata": {
        "id": "aoBjlwQupsgY"
      },
      "execution_count": null,
      "outputs": []
    },
    {
      "cell_type": "code",
      "source": [
        "# Plotting the clusters on a scatter plot\n",
        "plt.figure(figsize=(12, 8))\n",
        "scatter = plt.scatter(distance_dataframe_sample['longitude'], distance_dataframe_sample['latitude'],\n",
        "                      c=distance_dataframe_sample['cluster'], cmap='viridis', s=10)\n",
        "plt.colorbar(scatter, label='Cluster')\n",
        "plt.title('House Clusters Based on Custom Distance Function')\n",
        "plt.xlabel('Longitude')\n",
        "plt.ylabel('Latitude')\n",
        "plt.grid()\n",
        "plt.show()\n",
        "\n",
        "# # Analysis of the clusters\n",
        "# for cluster in range(num_clusters):\n",
        "#     cluster_data = distance_dataframe_sample[distance_dataframe_sample['cluster'] == cluster]\n",
        "#     print(f\"Cluster {cluster}:\")\n",
        "#     print(cluster_data[['parcelid', 'latitude', 'longitude', 'calculatedfinishedsquarefeet',\n",
        "#                         'bedroomcnt', 'bathroomcnt', 'taxvaluedollarcnt', 'yearbuilt']].describe())\n",
        "#     print(\"\\n\")"
      ],
      "metadata": {
        "colab": {
          "base_uri": "https://localhost:8080/",
          "height": 718
        },
        "id": "YRh3jpdqp1Bv",
        "outputId": "0bc8017b-7119-4f83-8aaa-7e90b81e09b6"
      },
      "execution_count": null,
      "outputs": [
        {
          "output_type": "display_data",
          "data": {
            "text/plain": [
              "<Figure size 1200x800 with 2 Axes>"
            ],
            "image/png": "[encoded data removed]"
          },
          "metadata": {}
        }
      ]
    },
    {
      "cell_type": "markdown",
      "source": [
        "ANS)"
      ],
      "metadata": {
        "id": "N7S-veF_I54w"
      }
    },
    {
      "cell_type": "markdown",
      "source": [
        "Ans) I have used a combination of geographic and property-specific variables for the distance function. In the plot there are few points with different colours that intersect with another cluster the reason could be for instance if there is community which has almost similar location their price might be still varing because of an extra bathroom or few extrasquare feets."
      ],
      "metadata": {
        "id": "pJgA3r_jJHmU"
      }
    },
    {
      "cell_type": "code",
      "source": [],
      "metadata": {
        "id": "iBUdNj5wqEo1"
      },
      "execution_count": null,
      "outputs": []
    },
    {
      "cell_type": "markdown",
      "source": [
        "## **Q4: Integrating External Data for Price Prediction (15 Points)**\n"
      ],
      "metadata": {
        "id": "Vy_fKGti5Ggp"
      }
    },
    {
      "cell_type": "markdown",
      "source": [
        "**Identify at least one external data set which you might be able integrate into your price prediction analysis to make it better. Perhaps it can be financial, such as the historical effects of interest rates, consumer confidence, etc. on housing prices. Perhaps it can be geographic, like the crime rate, educational scores, income levels, etc. Discuss whetherthis data helps with the prediction task. (15%)**"
      ],
      "metadata": {
        "id": "BlV9Hrm2A-5v"
      }
    },
    {
      "cell_type": "markdown",
      "source": [
        "**Answer)**The External dataset i chose to use for prediction analysis is the Construction Spending Historical dataset which consists of the   monthly estimates of the total dollar value of construction work done in the U.S. which is published by United States Census Bereau And it can be accesed it through the below link.\n",
        "https://www.census.gov/construction/c30/prexcel.html\n",
        "\n",
        "**The Reason** I chose this dataset   because it provides valuable insights into broader economic factors that directly impact property values. The volume of construction activity  can serve as an indicator of market growth or decline, influencing housing demand, availability, and pricing trends. By including this dataset, I can capture important external drivers of property prices, such as fluctuations in material costs, labor demand, and new housing developments.\n",
        "\n",
        "**Construction Activity Impact**: High levels of construction typically signal economic growth and increased housing supply, which can moderate price increases. Conversely, a decline in construction may reflect economic downturns, leading to a supply-demand imbalance and rising property values.\n",
        "Temporal Trends: The monthly granularity of the data aligns well with the time-sensitive nature of housing markets, helping to identify how construction cycles influence property values over time.\n",
        "Local Market Influence: Areas with significant construction activity are likely to experience changes in housing infrastructure, which directly affects property valuation models.\n",
        "Why I Didn’t Choose Crime Rates:\n",
        "\n",
        "While crime rates can influence property values, especially at a local level, **I opted not to include them for this analysis for several reasons one among them is the regionidzip  or any other zip based features in the dataset are not up to the mark and are limited to few places so choosing Crime data tends to have a more localized effect on property prices, and its influence may not be as consistently relevant across all regions or timeframes.**"
      ],
      "metadata": {
        "id": "2NiD3-ITgS9l"
      }
    },
    {
      "cell_type": "code",
      "source": [
        "external_df=pd.read_excel('/content/drive/MyDrive/courses/cse519/homework2/construction_Spending_Historical_Data.xlsx')\n",
        "external_df['Date'] = pd.to_datetime(external_df['Date'], errors='coerce')\n",
        "# Extract year and month from the date\n",
        "external_df['year'] = external_df['Date'].dt.year\n",
        "external_df['month'] = external_df['Date'].dt.month\n",
        "external_df.head()\n"
      ],
      "metadata": {
        "colab": {
          "base_uri": "https://localhost:8080/",
          "height": 206
        },
        "id": "-K_oLIDXdpIt",
        "outputId": "8b3944ae-6be3-4e54-b325-1df6eadcf980"
      },
      "execution_count": null,
      "outputs": [
        {
          "output_type": "execute_result",
          "data": {
            "text/plain": [
              "        Date  Construction_Value  year  month\n",
              "0 2016-12-01              473279  2016     12\n",
              "1 2016-11-01              471374  2016     11\n",
              "2 2016-10-01              466621  2016     10\n",
              "3 2016-09-01              457243  2016      9\n",
              "4 2016-08-01              462870  2016      8"
            ],
            "text/html": [
              "\n",
              "  <div id=\"df-f9c5a21b-3cd3-4d98-9fe0-a437926d36db\" class=\"colab-df-container\">\n",
              "    <div>\n",
              "<style scoped>\n",
              "    .dataframe tbody tr th:only-of-type {\n",
              "        vertical-align: middle;\n",
              "    }\n",
              "\n",
              "    .dataframe tbody tr th {\n",
              "        vertical-align: top;\n",
              "    }\n",
              "\n",
              "    .dataframe thead th {\n",
              "        text-align: right;\n",
              "    }\n",
              "</style>\n",
              "<table border=\"1\" class=\"dataframe\">\n",
              "  <thead>\n",
              "    <tr style=\"text-align: right;\">\n",
              "      <th></th>\n",
              "      <th>Date</th>\n",
              "      <th>Construction_Value</th>\n",
              "      <th>year</th>\n",
              "      <th>month</th>\n",
              "    </tr>\n",
              "  </thead>\n",
              "  <tbody>\n",
              "    <tr>\n",
              "      <th>0</th>\n",
              "      <td>2016-12-01</td>\n",
              "      <td>473279</td>\n",
              "      <td>2016</td>\n",
              "      <td>12</td>\n",
              "    </tr>\n",
              "    <tr>\n",
              "      <th>1</th>\n",
              "      <td>2016-11-01</td>\n",
              "      <td>471374</td>\n",
              "      <td>2016</td>\n",
              "      <td>11</td>\n",
              "    </tr>\n",
              "    <tr>\n",
              "      <th>2</th>\n",
              "      <td>2016-10-01</td>\n",
              "      <td>466621</td>\n",
              "      <td>2016</td>\n",
              "      <td>10</td>\n",
              "    </tr>\n",
              "    <tr>\n",
              "      <th>3</th>\n",
              "      <td>2016-09-01</td>\n",
              "      <td>457243</td>\n",
              "      <td>2016</td>\n",
              "      <td>9</td>\n",
              "    </tr>\n",
              "    <tr>\n",
              "      <th>4</th>\n",
              "      <td>2016-08-01</td>\n",
              "      <td>462870</td>\n",
              "      <td>2016</td>\n",
              "      <td>8</td>\n",
              "    </tr>\n",
              "  </tbody>\n",
              "</table>\n",
              "</div>\n",
              "    <div class=\"colab-df-buttons\">\n",
              "\n",
              "  <div class=\"colab-df-container\">\n",
              "    <button class=\"colab-df-convert\" onclick=\"convertToInteractive('df-f9c5a21b-3cd3-4d98-9fe0-a437926d36db')\"\n",
              "            title=\"Convert this dataframe to an interactive table.\"\n",
              "            style=\"display:none;\">\n",
              "\n",
              "  <svg xmlns=\"http://www.w3.org/2000/svg\" height=\"24px\" viewBox=\"0 -960 960 960\">\n",
              "    <path d=\"M120-120v-720h720v720H120Zm60-500h600v-160H180v160Zm220 220h160v-160H400v160Zm0 220h160v-160H400v160ZM180-400h160v-160H180v160Zm440 0h160v-160H620v160ZM180-180h160v-160H180v160Zm440 0h160v-160H620v160Z\"/>\n",
              "  </svg>\n",
              "    </button>\n",
              "\n",
              "  <style>\n",
              "    .colab-df-container {\n",
              "      display:flex;\n",
              "      gap: 12px;\n",
              "    }\n",
              "\n",
              "    .colab-df-convert {\n",
              "      background-color: #E8F0FE;\n",
              "      border: none;\n",
              "      border-radius: 50%;\n",
              "      cursor: pointer;\n",
              "      display: none;\n",
              "      fill: #1967D2;\n",
              "      height: 32px;\n",
              "      padding: 0 0 0 0;\n",
              "      width: 32px;\n",
              "    }\n",
              "\n",
              "    .colab-df-convert:hover {\n",
              "      background-color: #E2EBFA;\n",
              "      box-shadow: 0px 1px 2px rgba(60, 64, 67, 0.3), 0px 1px 3px 1px rgba(60, 64, 67, 0.15);\n",
              "      fill: #174EA6;\n",
              "    }\n",
              "\n",
              "    .colab-df-buttons div {\n",
              "      margin-bottom: 4px;\n",
              "    }\n",
              "\n",
              "    [theme=dark] .colab-df-convert {\n",
              "      background-color: #3B4455;\n",
              "      fill: #D2E3FC;\n",
              "    }\n",
              "\n",
              "    [theme=dark] .colab-df-convert:hover {\n",
              "      background-color: #434B5C;\n",
              "      box-shadow: 0px 1px 3px 1px rgba(0, 0, 0, 0.15);\n",
              "      filter: drop-shadow(0px 1px 2px rgba(0, 0, 0, 0.3));\n",
              "      fill: #FFFFFF;\n",
              "    }\n",
              "  </style>\n",
              "\n",
              "    <script>\n",
              "      const buttonEl =\n",
              "        document.querySelector('#df-f9c5a21b-3cd3-4d98-9fe0-a437926d36db button.colab-df-convert');\n",
              "      buttonEl.style.display =\n",
              "        google.colab.kernel.accessAllowed ? 'block' : 'none';\n",
              "\n",
              "      async function convertToInteractive(key) {\n",
              "        const element = document.querySelector('#df-f9c5a21b-3cd3-4d98-9fe0-a437926d36db');\n",
              "        const dataTable =\n",
              "          await google.colab.kernel.invokeFunction('convertToInteractive',\n",
              "                                                    [key], {});\n",
              "        if (!dataTable) return;\n",
              "\n",
              "        const docLinkHtml = 'Like what you see? Visit the ' +\n",
              "          '<a target=\"_blank\" href=https://colab.research.google.com/notebooks/data_table.ipynb>data table notebook</a>'\n",
              "          + ' to learn more about interactive tables.';\n",
              "        element.innerHTML = '';\n",
              "        dataTable['output_type'] = 'display_data';\n",
              "        await google.colab.output.renderOutput(dataTable, element);\n",
              "        const docLink = document.createElement('div');\n",
              "        docLink.innerHTML = docLinkHtml;\n",
              "        element.appendChild(docLink);\n",
              "      }\n",
              "    </script>\n",
              "  </div>\n",
              "\n",
              "\n",
              "<div id=\"df-2922c54d-c520-4d7a-8dca-b0268aafafb8\">\n",
              "  <button class=\"colab-df-quickchart\" onclick=\"quickchart('df-2922c54d-c520-4d7a-8dca-b0268aafafb8')\"\n",
              "            title=\"Suggest charts\"\n",
              "            style=\"display:none;\">\n",
              "\n",
              "<svg xmlns=\"http://www.w3.org/2000/svg\" height=\"24px\"viewBox=\"0 0 24 24\"\n",
              "     width=\"24px\">\n",
              "    <g>\n",
              "        <path d=\"M19 3H5c-1.1 0-2 .9-2 2v14c0 1.1.9 2 2 2h14c1.1 0 2-.9 2-2V5c0-1.1-.9-2-2-2zM9 17H7v-7h2v7zm4 0h-2V7h2v10zm4 0h-2v-4h2v4z\"/>\n",
              "    </g>\n",
              "</svg>\n",
              "  </button>\n",
              "\n",
              "<style>\n",
              "  .colab-df-quickchart {\n",
              "      --bg-color: #E8F0FE;\n",
              "      --fill-color: #1967D2;\n",
              "      --hover-bg-color: #E2EBFA;\n",
              "      --hover-fill-color: #174EA6;\n",
              "      --disabled-fill-color: #AAA;\n",
              "      --disabled-bg-color: #DDD;\n",
              "  }\n",
              "\n",
              "  [theme=dark] .colab-df-quickchart {\n",
              "      --bg-color: #3B4455;\n",
              "      --fill-color: #D2E3FC;\n",
              "      --hover-bg-color: #434B5C;\n",
              "      --hover-fill-color: #FFFFFF;\n",
              "      --disabled-bg-color: #3B4455;\n",
              "      --disabled-fill-color: #666;\n",
              "  }\n",
              "\n",
              "  .colab-df-quickchart {\n",
              "    background-color: var(--bg-color);\n",
              "    border: none;\n",
              "    border-radius: 50%;\n",
              "    cursor: pointer;\n",
              "    display: none;\n",
              "    fill: var(--fill-color);\n",
              "    height: 32px;\n",
              "    padding: 0;\n",
              "    width: 32px;\n",
              "  }\n",
              "\n",
              "  .colab-df-quickchart:hover {\n",
              "    background-color: var(--hover-bg-color);\n",
              "    box-shadow: 0 1px 2px rgba(60, 64, 67, 0.3), 0 1px 3px 1px rgba(60, 64, 67, 0.15);\n",
              "    fill: var(--button-hover-fill-color);\n",
              "  }\n",
              "\n",
              "  .colab-df-quickchart-complete:disabled,\n",
              "  .colab-df-quickchart-complete:disabled:hover {\n",
              "    background-color: var(--disabled-bg-color);\n",
              "    fill: var(--disabled-fill-color);\n",
              "    box-shadow: none;\n",
              "  }\n",
              "\n",
              "  .colab-df-spinner {\n",
              "    border: 2px solid var(--fill-color);\n",
              "    border-color: transparent;\n",
              "    border-bottom-color: var(--fill-color);\n",
              "    animation:\n",
              "      spin 1s steps(1) infinite;\n",
              "  }\n",
              "\n",
              "  @keyframes spin {\n",
              "    0% {\n",
              "      border-color: transparent;\n",
              "      border-bottom-color: var(--fill-color);\n",
              "      border-left-color: var(--fill-color);\n",
              "    }\n",
              "    20% {\n",
              "      border-color: transparent;\n",
              "      border-left-color: var(--fill-color);\n",
              "      border-top-color: var(--fill-color);\n",
              "    }\n",
              "    30% {\n",
              "      border-color: transparent;\n",
              "      border-left-color: var(--fill-color);\n",
              "      border-top-color: var(--fill-color);\n",
              "      border-right-color: var(--fill-color);\n",
              "    }\n",
              "    40% {\n",
              "      border-color: transparent;\n",
              "      border-right-color: var(--fill-color);\n",
              "      border-top-color: var(--fill-color);\n",
              "    }\n",
              "    60% {\n",
              "      border-color: transparent;\n",
              "      border-right-color: var(--fill-color);\n",
              "    }\n",
              "    80% {\n",
              "      border-color: transparent;\n",
              "      border-right-color: var(--fill-color);\n",
              "      border-bottom-color: var(--fill-color);\n",
              "    }\n",
              "    90% {\n",
              "      border-color: transparent;\n",
              "      border-bottom-color: var(--fill-color);\n",
              "    }\n",
              "  }\n",
              "</style>\n",
              "\n",
              "  <script>\n",
              "    async function quickchart(key) {\n",
              "      const quickchartButtonEl =\n",
              "        document.querySelector('#' + key + ' button');\n",
              "      quickchartButtonEl.disabled = true;  // To prevent multiple clicks.\n",
              "      quickchartButtonEl.classList.add('colab-df-spinner');\n",
              "      try {\n",
              "        const charts = await google.colab.kernel.invokeFunction(\n",
              "            'suggestCharts', [key], {});\n",
              "      } catch (error) {\n",
              "        console.error('Error during call to suggestCharts:', error);\n",
              "      }\n",
              "      quickchartButtonEl.classList.remove('colab-df-spinner');\n",
              "      quickchartButtonEl.classList.add('colab-df-quickchart-complete');\n",
              "    }\n",
              "    (() => {\n",
              "      let quickchartButtonEl =\n",
              "        document.querySelector('#df-2922c54d-c520-4d7a-8dca-b0268aafafb8 button');\n",
              "      quickchartButtonEl.style.display =\n",
              "        google.colab.kernel.accessAllowed ? 'block' : 'none';\n",
              "    })();\n",
              "  </script>\n",
              "</div>\n",
              "\n",
              "    </div>\n",
              "  </div>\n"
            ],
            "application/vnd.google.colaboratory.intrinsic+json": {
              "type": "dataframe",
              "variable_name": "external_df",
              "summary": "{\n  \"name\": \"external_df\",\n  \"rows\": 24,\n  \"fields\": [\n    {\n      \"column\": \"Date\",\n      \"properties\": {\n        \"dtype\": \"date\",\n        \"min\": \"2016-01-01 00:00:00\",\n        \"max\": \"2024-05-01 00:00:00\",\n        \"num_unique_values\": 24,\n        \"samples\": [\n          \"2016-04-01 00:00:00\",\n          \"2017-08-01 00:00:00\",\n          \"2016-12-01 00:00:00\"\n        ],\n        \"semantic_type\": \"\",\n        \"description\": \"\"\n      }\n    },\n    {\n      \"column\": \"Construction_Value\",\n      \"properties\": {\n        \"dtype\": \"number\",\n        \"std\": 30946,\n        \"min\": 450027,\n        \"max\": 532923,\n        \"num_unique_values\": 24,\n        \"samples\": [\n          458239,\n          522920,\n          473279\n        ],\n        \"semantic_type\": \"\",\n        \"description\": \"\"\n      }\n    },\n    {\n      \"column\": \"year\",\n      \"properties\": {\n        \"dtype\": \"int32\",\n        \"num_unique_values\": 3,\n        \"samples\": [\n          2016,\n          2024,\n          2017\n        ],\n        \"semantic_type\": \"\",\n        \"description\": \"\"\n      }\n    },\n    {\n      \"column\": \"month\",\n      \"properties\": {\n        \"dtype\": \"int32\",\n        \"num_unique_values\": 12,\n        \"samples\": [\n          2,\n          3,\n          12\n        ],\n        \"semantic_type\": \"\",\n        \"description\": \"\"\n      }\n    }\n  ]\n}"
            }
          },
          "metadata": {},
          "execution_count": 20
        }
      ]
    },
    {
      "cell_type": "markdown",
      "source": [
        "**Existing Dataset**"
      ],
      "metadata": {
        "id": "xe21RZW7gk-G"
      }
    },
    {
      "cell_type": "code",
      "source": [
        "property_2016_df = pd.read_csv(\"/content/drive/MyDrive/courses/cse519/homework2/properties_2016.csv\")\n",
        "property_2017_df = pd.read_csv(\"/content/drive/MyDrive/courses/cse519/homework2/properties_2017.csv\")\n"
      ],
      "metadata": {
        "id": "l0u9Cd0e5OqQ"
      },
      "execution_count": null,
      "outputs": []
    },
    {
      "cell_type": "code",
      "source": [
        "train_2016_df = pd.read_csv(\"/content/drive/MyDrive/courses/cse519/homework2/train_2016_v2.csv\")\n",
        "train_2017_df = pd.read_csv(\"/content/drive/MyDrive/courses/cse519/homework2/train_2017.csv\")\n"
      ],
      "metadata": {
        "id": "eXsQ3Foh-kJb"
      },
      "execution_count": null,
      "outputs": []
    },
    {
      "cell_type": "code",
      "source": [
        "df_2016 = pd.merge(train_2016_df, property_2016_df, how = 'left', on = 'parcelid')\n",
        "df_2017 = pd.merge(train_2017_df, property_2017_df, how = 'left', on = 'parcelid')\n",
        "df_train = pd.concat([df_2016,df_2017],axis=0).reset_index(drop=True)"
      ],
      "metadata": {
        "id": "cO2zuwTg8Vf8"
      },
      "execution_count": null,
      "outputs": []
    },
    {
      "cell_type": "code",
      "source": [
        "# drop rows with too many Nan\n",
        "print(df_train.shape[0])\n",
        "percent = 75.0\n",
        "min_count =  int(((100-percent)/100)*df_train.shape[1] + 1)\n",
        "df_train = df_train.dropna(axis=0, thresh=min_count)\n",
        "print(df_train.shape[0])\n",
        "\n",
        "\n",
        "# drop outliers\n",
        "high = df_train['logerror'].mean() + 2.5*df_train['logerror'].std()\n",
        "low = df_train['logerror'].mean() - 2.5*df_train['logerror'].std()\n",
        "\n",
        "df_train = df_train[df_train['logerror'] > low]\n",
        "df_train = df_train[df_train['logerror'] < high]\n",
        "print(df_train.shape[0])"
      ],
      "metadata": {
        "colab": {
          "base_uri": "https://localhost:8080/"
        },
        "id": "ZjNeMgEIFQs-",
        "outputId": "2dc72e99-bdf4-4fbb-a52d-9a40007a1073"
      },
      "execution_count": null,
      "outputs": [
        {
          "output_type": "stream",
          "name": "stdout",
          "text": [
            "167888\n",
            "167854\n",
            "164535\n"
          ]
        }
      ]
    },
    {
      "cell_type": "code",
      "source": [
        "# df_train.nunique(dropna=False)"
      ],
      "metadata": {
        "id": "JO4nxAQKNCYd"
      },
      "execution_count": null,
      "outputs": []
    },
    {
      "cell_type": "code",
      "source": [
        "df_train['transactiondate'] = pd.to_datetime(df_train['transactiondate'], errors='coerce')\n",
        "\n",
        "# Extract year, month, and quarter\n",
        "df_train['month'] = df_train['transactiondate'].dt.month\n",
        "df_train['quarter'] = df_train['transactiondate'].dt.quarter\n",
        "df_train['year'] = df_train['transactiondate'].dt.year\n",
        "\n",
        "# Handle any missing or null transactiondate values\n",
        "df_train = df_train.dropna(subset=['transactiondate'])  # Remove rows with null dates, if applicable\n",
        "\n",
        "df_train.head()"
      ],
      "metadata": {
        "colab": {
          "base_uri": "https://localhost:8080/",
          "height": 255
        },
        "id": "4uvKrz3AUBQ2",
        "outputId": "f49bff35-1028-43b9-c4b7-7d4133b98f87"
      },
      "execution_count": null,
      "outputs": [
        {
          "output_type": "execute_result",
          "data": {
            "text/plain": [
              "   parcelid  logerror transactiondate  airconditioningtypeid  \\\n",
              "0  11016594    0.0276      2016-01-01                    1.0   \n",
              "1  14366692   -0.1684      2016-01-01                    NaN   \n",
              "2  12098116   -0.0040      2016-01-01                    1.0   \n",
              "3  12643413    0.0218      2016-01-02                    1.0   \n",
              "4  14432541   -0.0050      2016-01-02                    NaN   \n",
              "\n",
              "   architecturalstyletypeid  basementsqft  bathroomcnt  bedroomcnt  \\\n",
              "0                       NaN           NaN          2.0         3.0   \n",
              "1                       NaN           NaN          3.5         4.0   \n",
              "2                       NaN           NaN          3.0         2.0   \n",
              "3                       NaN           NaN          2.0         2.0   \n",
              "4                       NaN           NaN          2.5         4.0   \n",
              "\n",
              "   buildingclasstypeid  buildingqualitytypeid  ...  taxvaluedollarcnt  \\\n",
              "0                  NaN                    4.0  ...           360170.0   \n",
              "1                  NaN                    NaN  ...           585529.0   \n",
              "2                  NaN                    4.0  ...           119906.0   \n",
              "3                  NaN                    4.0  ...           244880.0   \n",
              "4                  NaN                    NaN  ...           434551.0   \n",
              "\n",
              "   assessmentyear  landtaxvaluedollarcnt  taxamount  taxdelinquencyflag  \\\n",
              "0          2015.0               237416.0    6735.88                 NaN   \n",
              "1          2015.0               239071.0   10153.02                 NaN   \n",
              "2          2015.0                57912.0   11484.48                 NaN   \n",
              "3          2015.0                73362.0    3048.74                 NaN   \n",
              "4          2015.0               264977.0    5488.96                 NaN   \n",
              "\n",
              "   taxdelinquencyyear  censustractandblock  month  quarter  year  \n",
              "0                 NaN         6.037107e+13      1        1  2016  \n",
              "1                 NaN                  NaN      1        1  2016  \n",
              "2                 NaN         6.037464e+13      1        1  2016  \n",
              "3                 NaN         6.037296e+13      1        1  2016  \n",
              "4                 NaN         6.059042e+13      1        1  2016  \n",
              "\n",
              "[5 rows x 63 columns]"
            ],
            "text/html": [
              "\n",
              "  <div id=\"df-f228c904-f140-467d-b48b-49082d1d3079\" class=\"colab-df-container\">\n",
              "    <div>\n",
              "<style scoped>\n",
              "    .dataframe tbody tr th:only-of-type {\n",
              "        vertical-align: middle;\n",
              "    }\n",
              "\n",
              "    .dataframe tbody tr th {\n",
              "        vertical-align: top;\n",
              "    }\n",
              "\n",
              "    .dataframe thead th {\n",
              "        text-align: right;\n",
              "    }\n",
              "</style>\n",
              "<table border=\"1\" class=\"dataframe\">\n",
              "  <thead>\n",
              "    <tr style=\"text-align: right;\">\n",
              "      <th></th>\n",
              "      <th>parcelid</th>\n",
              "      <th>logerror</th>\n",
              "      <th>transactiondate</th>\n",
              "      <th>airconditioningtypeid</th>\n",
              "      <th>architecturalstyletypeid</th>\n",
              "      <th>basementsqft</th>\n",
              "      <th>bathroomcnt</th>\n",
              "      <th>bedroomcnt</th>\n",
              "      <th>buildingclasstypeid</th>\n",
              "      <th>buildingqualitytypeid</th>\n",
              "      <th>...</th>\n",
              "      <th>taxvaluedollarcnt</th>\n",
              "      <th>assessmentyear</th>\n",
              "      <th>landtaxvaluedollarcnt</th>\n",
              "      <th>taxamount</th>\n",
              "      <th>taxdelinquencyflag</th>\n",
              "      <th>taxdelinquencyyear</th>\n",
              "      <th>censustractandblock</th>\n",
              "      <th>month</th>\n",
              "      <th>quarter</th>\n",
              "      <th>year</th>\n",
              "    </tr>\n",
              "  </thead>\n",
              "  <tbody>\n",
              "    <tr>\n",
              "      <th>0</th>\n",
              "      <td>11016594</td>\n",
              "      <td>0.0276</td>\n",
              "      <td>2016-01-01</td>\n",
              "      <td>1.0</td>\n",
              "      <td>NaN</td>\n",
              "      <td>NaN</td>\n",
              "      <td>2.0</td>\n",
              "      <td>3.0</td>\n",
              "      <td>NaN</td>\n",
              "      <td>4.0</td>\n",
              "      <td>...</td>\n",
              "      <td>360170.0</td>\n",
              "      <td>2015.0</td>\n",
              "      <td>237416.0</td>\n",
              "      <td>6735.88</td>\n",
              "      <td>NaN</td>\n",
              "      <td>NaN</td>\n",
              "      <td>6.037107e+13</td>\n",
              "      <td>1</td>\n",
              "      <td>1</td>\n",
              "      <td>2016</td>\n",
              "    </tr>\n",
              "    <tr>\n",
              "      <th>1</th>\n",
              "      <td>14366692</td>\n",
              "      <td>-0.1684</td>\n",
              "      <td>2016-01-01</td>\n",
              "      <td>NaN</td>\n",
              "      <td>NaN</td>\n",
              "      <td>NaN</td>\n",
              "      <td>3.5</td>\n",
              "      <td>4.0</td>\n",
              "      <td>NaN</td>\n",
              "      <td>NaN</td>\n",
              "      <td>...</td>\n",
              "      <td>585529.0</td>\n",
              "      <td>2015.0</td>\n",
              "      <td>239071.0</td>\n",
              "      <td>10153.02</td>\n",
              "      <td>NaN</td>\n",
              "      <td>NaN</td>\n",
              "      <td>NaN</td>\n",
              "      <td>1</td>\n",
              "      <td>1</td>\n",
              "      <td>2016</td>\n",
              "    </tr>\n",
              "    <tr>\n",
              "      <th>2</th>\n",
              "      <td>12098116</td>\n",
              "      <td>-0.0040</td>\n",
              "      <td>2016-01-01</td>\n",
              "      <td>1.0</td>\n",
              "      <td>NaN</td>\n",
              "      <td>NaN</td>\n",
              "      <td>3.0</td>\n",
              "      <td>2.0</td>\n",
              "      <td>NaN</td>\n",
              "      <td>4.0</td>\n",
              "      <td>...</td>\n",
              "      <td>119906.0</td>\n",
              "      <td>2015.0</td>\n",
              "      <td>57912.0</td>\n",
              "      <td>11484.48</td>\n",
              "      <td>NaN</td>\n",
              "      <td>NaN</td>\n",
              "      <td>6.037464e+13</td>\n",
              "      <td>1</td>\n",
              "      <td>1</td>\n",
              "      <td>2016</td>\n",
              "    </tr>\n",
              "    <tr>\n",
              "      <th>3</th>\n",
              "      <td>12643413</td>\n",
              "      <td>0.0218</td>\n",
              "      <td>2016-01-02</td>\n",
              "      <td>1.0</td>\n",
              "      <td>NaN</td>\n",
              "      <td>NaN</td>\n",
              "      <td>2.0</td>\n",
              "      <td>2.0</td>\n",
              "      <td>NaN</td>\n",
              "      <td>4.0</td>\n",
              "      <td>...</td>\n",
              "      <td>244880.0</td>\n",
              "      <td>2015.0</td>\n",
              "      <td>73362.0</td>\n",
              "      <td>3048.74</td>\n",
              "      <td>NaN</td>\n",
              "      <td>NaN</td>\n",
              "      <td>6.037296e+13</td>\n",
              "      <td>1</td>\n",
              "      <td>1</td>\n",
              "      <td>2016</td>\n",
              "    </tr>\n",
              "    <tr>\n",
              "      <th>4</th>\n",
              "      <td>14432541</td>\n",
              "      <td>-0.0050</td>\n",
              "      <td>2016-01-02</td>\n",
              "      <td>NaN</td>\n",
              "      <td>NaN</td>\n",
              "      <td>NaN</td>\n",
              "      <td>2.5</td>\n",
              "      <td>4.0</td>\n",
              "      <td>NaN</td>\n",
              "      <td>NaN</td>\n",
              "      <td>...</td>\n",
              "      <td>434551.0</td>\n",
              "      <td>2015.0</td>\n",
              "      <td>264977.0</td>\n",
              "      <td>5488.96</td>\n",
              "      <td>NaN</td>\n",
              "      <td>NaN</td>\n",
              "      <td>6.059042e+13</td>\n",
              "      <td>1</td>\n",
              "      <td>1</td>\n",
              "      <td>2016</td>\n",
              "    </tr>\n",
              "  </tbody>\n",
              "</table>\n",
              "<p>5 rows × 63 columns</p>\n",
              "</div>\n",
              "    <div class=\"colab-df-buttons\">\n",
              "\n",
              "  <div class=\"colab-df-container\">\n",
              "    <button class=\"colab-df-convert\" onclick=\"convertToInteractive('df-f228c904-f140-467d-b48b-49082d1d3079')\"\n",
              "            title=\"Convert this dataframe to an interactive table.\"\n",
              "            style=\"display:none;\">\n",
              "\n",
              "  <svg xmlns=\"http://www.w3.org/2000/svg\" height=\"24px\" viewBox=\"0 -960 960 960\">\n",
              "    <path d=\"M120-120v-720h720v720H120Zm60-500h600v-160H180v160Zm220 220h160v-160H400v160Zm0 220h160v-160H400v160ZM180-400h160v-160H180v160Zm440 0h160v-160H620v160ZM180-180h160v-160H180v160Zm440 0h160v-160H620v160Z\"/>\n",
              "  </svg>\n",
              "    </button>\n",
              "\n",
              "  <style>\n",
              "    .colab-df-container {\n",
              "      display:flex;\n",
              "      gap: 12px;\n",
              "    }\n",
              "\n",
              "    .colab-df-convert {\n",
              "      background-color: #E8F0FE;\n",
              "      border: none;\n",
              "      border-radius: 50%;\n",
              "      cursor: pointer;\n",
              "      display: none;\n",
              "      fill: #1967D2;\n",
              "      height: 32px;\n",
              "      padding: 0 0 0 0;\n",
              "      width: 32px;\n",
              "    }\n",
              "\n",
              "    .colab-df-convert:hover {\n",
              "      background-color: #E2EBFA;\n",
              "      box-shadow: 0px 1px 2px rgba(60, 64, 67, 0.3), 0px 1px 3px 1px rgba(60, 64, 67, 0.15);\n",
              "      fill: #174EA6;\n",
              "    }\n",
              "\n",
              "    .colab-df-buttons div {\n",
              "      margin-bottom: 4px;\n",
              "    }\n",
              "\n",
              "    [theme=dark] .colab-df-convert {\n",
              "      background-color: #3B4455;\n",
              "      fill: #D2E3FC;\n",
              "    }\n",
              "\n",
              "    [theme=dark] .colab-df-convert:hover {\n",
              "      background-color: #434B5C;\n",
              "      box-shadow: 0px 1px 3px 1px rgba(0, 0, 0, 0.15);\n",
              "      filter: drop-shadow(0px 1px 2px rgba(0, 0, 0, 0.3));\n",
              "      fill: #FFFFFF;\n",
              "    }\n",
              "  </style>\n",
              "\n",
              "    <script>\n",
              "      const buttonEl =\n",
              "        document.querySelector('#df-f228c904-f140-467d-b48b-49082d1d3079 button.colab-df-convert');\n",
              "      buttonEl.style.display =\n",
              "        google.colab.kernel.accessAllowed ? 'block' : 'none';\n",
              "\n",
              "      async function convertToInteractive(key) {\n",
              "        const element = document.querySelector('#df-f228c904-f140-467d-b48b-49082d1d3079');\n",
              "        const dataTable =\n",
              "          await google.colab.kernel.invokeFunction('convertToInteractive',\n",
              "                                                    [key], {});\n",
              "        if (!dataTable) return;\n",
              "\n",
              "        const docLinkHtml = 'Like what you see? Visit the ' +\n",
              "          '<a target=\"_blank\" href=https://colab.research.google.com/notebooks/data_table.ipynb>data table notebook</a>'\n",
              "          + ' to learn more about interactive tables.';\n",
              "        element.innerHTML = '';\n",
              "        dataTable['output_type'] = 'display_data';\n",
              "        await google.colab.output.renderOutput(dataTable, element);\n",
              "        const docLink = document.createElement('div');\n",
              "        docLink.innerHTML = docLinkHtml;\n",
              "        element.appendChild(docLink);\n",
              "      }\n",
              "    </script>\n",
              "  </div>\n",
              "\n",
              "\n",
              "<div id=\"df-6baf0a21-0d8f-4657-a5c1-b9cd5ba08393\">\n",
              "  <button class=\"colab-df-quickchart\" onclick=\"quickchart('df-6baf0a21-0d8f-4657-a5c1-b9cd5ba08393')\"\n",
              "            title=\"Suggest charts\"\n",
              "            style=\"display:none;\">\n",
              "\n",
              "<svg xmlns=\"http://www.w3.org/2000/svg\" height=\"24px\"viewBox=\"0 0 24 24\"\n",
              "     width=\"24px\">\n",
              "    <g>\n",
              "        <path d=\"M19 3H5c-1.1 0-2 .9-2 2v14c0 1.1.9 2 2 2h14c1.1 0 2-.9 2-2V5c0-1.1-.9-2-2-2zM9 17H7v-7h2v7zm4 0h-2V7h2v10zm4 0h-2v-4h2v4z\"/>\n",
              "    </g>\n",
              "</svg>\n",
              "  </button>\n",
              "\n",
              "<style>\n",
              "  .colab-df-quickchart {\n",
              "      --bg-color: #E8F0FE;\n",
              "      --fill-color: #1967D2;\n",
              "      --hover-bg-color: #E2EBFA;\n",
              "      --hover-fill-color: #174EA6;\n",
              "      --disabled-fill-color: #AAA;\n",
              "      --disabled-bg-color: #DDD;\n",
              "  }\n",
              "\n",
              "  [theme=dark] .colab-df-quickchart {\n",
              "      --bg-color: #3B4455;\n",
              "      --fill-color: #D2E3FC;\n",
              "      --hover-bg-color: #434B5C;\n",
              "      --hover-fill-color: #FFFFFF;\n",
              "      --disabled-bg-color: #3B4455;\n",
              "      --disabled-fill-color: #666;\n",
              "  }\n",
              "\n",
              "  .colab-df-quickchart {\n",
              "    background-color: var(--bg-color);\n",
              "    border: none;\n",
              "    border-radius: 50%;\n",
              "    cursor: pointer;\n",
              "    display: none;\n",
              "    fill: var(--fill-color);\n",
              "    height: 32px;\n",
              "    padding: 0;\n",
              "    width: 32px;\n",
              "  }\n",
              "\n",
              "  .colab-df-quickchart:hover {\n",
              "    background-color: var(--hover-bg-color);\n",
              "    box-shadow: 0 1px 2px rgba(60, 64, 67, 0.3), 0 1px 3px 1px rgba(60, 64, 67, 0.15);\n",
              "    fill: var(--button-hover-fill-color);\n",
              "  }\n",
              "\n",
              "  .colab-df-quickchart-complete:disabled,\n",
              "  .colab-df-quickchart-complete:disabled:hover {\n",
              "    background-color: var(--disabled-bg-color);\n",
              "    fill: var(--disabled-fill-color);\n",
              "    box-shadow: none;\n",
              "  }\n",
              "\n",
              "  .colab-df-spinner {\n",
              "    border: 2px solid var(--fill-color);\n",
              "    border-color: transparent;\n",
              "    border-bottom-color: var(--fill-color);\n",
              "    animation:\n",
              "      spin 1s steps(1) infinite;\n",
              "  }\n",
              "\n",
              "  @keyframes spin {\n",
              "    0% {\n",
              "      border-color: transparent;\n",
              "      border-bottom-color: var(--fill-color);\n",
              "      border-left-color: var(--fill-color);\n",
              "    }\n",
              "    20% {\n",
              "      border-color: transparent;\n",
              "      border-left-color: var(--fill-color);\n",
              "      border-top-color: var(--fill-color);\n",
              "    }\n",
              "    30% {\n",
              "      border-color: transparent;\n",
              "      border-left-color: var(--fill-color);\n",
              "      border-top-color: var(--fill-color);\n",
              "      border-right-color: var(--fill-color);\n",
              "    }\n",
              "    40% {\n",
              "      border-color: transparent;\n",
              "      border-right-color: var(--fill-color);\n",
              "      border-top-color: var(--fill-color);\n",
              "    }\n",
              "    60% {\n",
              "      border-color: transparent;\n",
              "      border-right-color: var(--fill-color);\n",
              "    }\n",
              "    80% {\n",
              "      border-color: transparent;\n",
              "      border-right-color: var(--fill-color);\n",
              "      border-bottom-color: var(--fill-color);\n",
              "    }\n",
              "    90% {\n",
              "      border-color: transparent;\n",
              "      border-bottom-color: var(--fill-color);\n",
              "    }\n",
              "  }\n",
              "</style>\n",
              "\n",
              "  <script>\n",
              "    async function quickchart(key) {\n",
              "      const quickchartButtonEl =\n",
              "        document.querySelector('#' + key + ' button');\n",
              "      quickchartButtonEl.disabled = true;  // To prevent multiple clicks.\n",
              "      quickchartButtonEl.classList.add('colab-df-spinner');\n",
              "      try {\n",
              "        const charts = await google.colab.kernel.invokeFunction(\n",
              "            'suggestCharts', [key], {});\n",
              "      } catch (error) {\n",
              "        console.error('Error during call to suggestCharts:', error);\n",
              "      }\n",
              "      quickchartButtonEl.classList.remove('colab-df-spinner');\n",
              "      quickchartButtonEl.classList.add('colab-df-quickchart-complete');\n",
              "    }\n",
              "    (() => {\n",
              "      let quickchartButtonEl =\n",
              "        document.querySelector('#df-6baf0a21-0d8f-4657-a5c1-b9cd5ba08393 button');\n",
              "      quickchartButtonEl.style.display =\n",
              "        google.colab.kernel.accessAllowed ? 'block' : 'none';\n",
              "    })();\n",
              "  </script>\n",
              "</div>\n",
              "\n",
              "    </div>\n",
              "  </div>\n"
            ],
            "application/vnd.google.colaboratory.intrinsic+json": {
              "type": "dataframe",
              "variable_name": "df_train"
            }
          },
          "metadata": {},
          "execution_count": 25
        }
      ]
    },
    {
      "cell_type": "markdown",
      "source": [
        "**Merging The External Dataset**"
      ],
      "metadata": {
        "id": "uOjMbJZ1fmgy"
      }
    },
    {
      "cell_type": "code",
      "source": [
        "merged_df = pd.merge(df_train, external_df, on=['year', 'month'], how='inner')\n",
        "merged_df.head()"
      ],
      "metadata": {
        "colab": {
          "base_uri": "https://localhost:8080/",
          "height": 342
        },
        "id": "9DNziWsbfbR4",
        "outputId": "f6a389ce-fe48-4b49-db82-3a68fb29db60"
      },
      "execution_count": null,
      "outputs": [
        {
          "output_type": "execute_result",
          "data": {
            "text/plain": [
              "   parcelid  logerror transactiondate  airconditioningtypeid  \\\n",
              "0  11016594    0.0276      2016-01-01                    1.0   \n",
              "1  14366692   -0.1684      2016-01-01                    NaN   \n",
              "2  12098116   -0.0040      2016-01-01                    1.0   \n",
              "3  12643413    0.0218      2016-01-02                    1.0   \n",
              "4  14432541   -0.0050      2016-01-02                    NaN   \n",
              "\n",
              "   architecturalstyletypeid  basementsqft  bathroomcnt  bedroomcnt  \\\n",
              "0                       NaN           NaN          2.0         3.0   \n",
              "1                       NaN           NaN          3.5         4.0   \n",
              "2                       NaN           NaN          3.0         2.0   \n",
              "3                       NaN           NaN          2.0         2.0   \n",
              "4                       NaN           NaN          2.5         4.0   \n",
              "\n",
              "   buildingclasstypeid  buildingqualitytypeid  ...  landtaxvaluedollarcnt  \\\n",
              "0                  NaN                    4.0  ...               237416.0   \n",
              "1                  NaN                    NaN  ...               239071.0   \n",
              "2                  NaN                    4.0  ...                57912.0   \n",
              "3                  NaN                    4.0  ...                73362.0   \n",
              "4                  NaN                    NaN  ...               264977.0   \n",
              "\n",
              "   taxamount  taxdelinquencyflag  taxdelinquencyyear  censustractandblock  \\\n",
              "0    6735.88                 NaN                 NaN         6.037107e+13   \n",
              "1   10153.02                 NaN                 NaN                  NaN   \n",
              "2   11484.48                 NaN                 NaN         6.037464e+13   \n",
              "3    3048.74                 NaN                 NaN         6.037296e+13   \n",
              "4    5488.96                 NaN                 NaN         6.059042e+13   \n",
              "\n",
              "   month  quarter  year       Date  Construction_Value  \n",
              "0      1        1  2016 2016-01-01              456604  \n",
              "1      1        1  2016 2016-01-01              456604  \n",
              "2      1        1  2016 2016-01-01              456604  \n",
              "3      1        1  2016 2016-01-01              456604  \n",
              "4      1        1  2016 2016-01-01              456604  \n",
              "\n",
              "[5 rows x 65 columns]"
            ],
            "text/html": [
              "\n",
              "  <div id=\"df-93f2ef38-b20f-40c5-b898-92e50d9f4804\" class=\"colab-df-container\">\n",
              "    <div>\n",
              "<style scoped>\n",
              "    .dataframe tbody tr th:only-of-type {\n",
              "        vertical-align: middle;\n",
              "    }\n",
              "\n",
              "    .dataframe tbody tr th {\n",
              "        vertical-align: top;\n",
              "    }\n",
              "\n",
              "    .dataframe thead th {\n",
              "        text-align: right;\n",
              "    }\n",
              "</style>\n",
              "<table border=\"1\" class=\"dataframe\">\n",
              "  <thead>\n",
              "    <tr style=\"text-align: right;\">\n",
              "      <th></th>\n",
              "      <th>parcelid</th>\n",
              "      <th>logerror</th>\n",
              "      <th>transactiondate</th>\n",
              "      <th>airconditioningtypeid</th>\n",
              "      <th>architecturalstyletypeid</th>\n",
              "      <th>basementsqft</th>\n",
              "      <th>bathroomcnt</th>\n",
              "      <th>bedroomcnt</th>\n",
              "      <th>buildingclasstypeid</th>\n",
              "      <th>buildingqualitytypeid</th>\n",
              "      <th>...</th>\n",
              "      <th>landtaxvaluedollarcnt</th>\n",
              "      <th>taxamount</th>\n",
              "      <th>taxdelinquencyflag</th>\n",
              "      <th>taxdelinquencyyear</th>\n",
              "      <th>censustractandblock</th>\n",
              "      <th>month</th>\n",
              "      <th>quarter</th>\n",
              "      <th>year</th>\n",
              "      <th>Date</th>\n",
              "      <th>Construction_Value</th>\n",
              "    </tr>\n",
              "  </thead>\n",
              "  <tbody>\n",
              "    <tr>\n",
              "      <th>0</th>\n",
              "      <td>11016594</td>\n",
              "      <td>0.0276</td>\n",
              "      <td>2016-01-01</td>\n",
              "      <td>1.0</td>\n",
              "      <td>NaN</td>\n",
              "      <td>NaN</td>\n",
              "      <td>2.0</td>\n",
              "      <td>3.0</td>\n",
              "      <td>NaN</td>\n",
              "      <td>4.0</td>\n",
              "      <td>...</td>\n",
              "      <td>237416.0</td>\n",
              "      <td>6735.88</td>\n",
              "      <td>NaN</td>\n",
              "      <td>NaN</td>\n",
              "      <td>6.037107e+13</td>\n",
              "      <td>1</td>\n",
              "      <td>1</td>\n",
              "      <td>2016</td>\n",
              "      <td>2016-01-01</td>\n",
              "      <td>456604</td>\n",
              "    </tr>\n",
              "    <tr>\n",
              "      <th>1</th>\n",
              "      <td>14366692</td>\n",
              "      <td>-0.1684</td>\n",
              "      <td>2016-01-01</td>\n",
              "      <td>NaN</td>\n",
              "      <td>NaN</td>\n",
              "      <td>NaN</td>\n",
              "      <td>3.5</td>\n",
              "      <td>4.0</td>\n",
              "      <td>NaN</td>\n",
              "      <td>NaN</td>\n",
              "      <td>...</td>\n",
              "      <td>239071.0</td>\n",
              "      <td>10153.02</td>\n",
              "      <td>NaN</td>\n",
              "      <td>NaN</td>\n",
              "      <td>NaN</td>\n",
              "      <td>1</td>\n",
              "      <td>1</td>\n",
              "      <td>2016</td>\n",
              "      <td>2016-01-01</td>\n",
              "      <td>456604</td>\n",
              "    </tr>\n",
              "    <tr>\n",
              "      <th>2</th>\n",
              "      <td>12098116</td>\n",
              "      <td>-0.0040</td>\n",
              "      <td>2016-01-01</td>\n",
              "      <td>1.0</td>\n",
              "      <td>NaN</td>\n",
              "      <td>NaN</td>\n",
              "      <td>3.0</td>\n",
              "      <td>2.0</td>\n",
              "      <td>NaN</td>\n",
              "      <td>4.0</td>\n",
              "      <td>...</td>\n",
              "      <td>57912.0</td>\n",
              "      <td>11484.48</td>\n",
              "      <td>NaN</td>\n",
              "      <td>NaN</td>\n",
              "      <td>6.037464e+13</td>\n",
              "      <td>1</td>\n",
              "      <td>1</td>\n",
              "      <td>2016</td>\n",
              "      <td>2016-01-01</td>\n",
              "      <td>456604</td>\n",
              "    </tr>\n",
              "    <tr>\n",
              "      <th>3</th>\n",
              "      <td>12643413</td>\n",
              "      <td>0.0218</td>\n",
              "      <td>2016-01-02</td>\n",
              "      <td>1.0</td>\n",
              "      <td>NaN</td>\n",
              "      <td>NaN</td>\n",
              "      <td>2.0</td>\n",
              "      <td>2.0</td>\n",
              "      <td>NaN</td>\n",
              "      <td>4.0</td>\n",
              "      <td>...</td>\n",
              "      <td>73362.0</td>\n",
              "      <td>3048.74</td>\n",
              "      <td>NaN</td>\n",
              "      <td>NaN</td>\n",
              "      <td>6.037296e+13</td>\n",
              "      <td>1</td>\n",
              "      <td>1</td>\n",
              "      <td>2016</td>\n",
              "      <td>2016-01-01</td>\n",
              "      <td>456604</td>\n",
              "    </tr>\n",
              "    <tr>\n",
              "      <th>4</th>\n",
              "      <td>14432541</td>\n",
              "      <td>-0.0050</td>\n",
              "      <td>2016-01-02</td>\n",
              "      <td>NaN</td>\n",
              "      <td>NaN</td>\n",
              "      <td>NaN</td>\n",
              "      <td>2.5</td>\n",
              "      <td>4.0</td>\n",
              "      <td>NaN</td>\n",
              "      <td>NaN</td>\n",
              "      <td>...</td>\n",
              "      <td>264977.0</td>\n",
              "      <td>5488.96</td>\n",
              "      <td>NaN</td>\n",
              "      <td>NaN</td>\n",
              "      <td>6.059042e+13</td>\n",
              "      <td>1</td>\n",
              "      <td>1</td>\n",
              "      <td>2016</td>\n",
              "      <td>2016-01-01</td>\n",
              "      <td>456604</td>\n",
              "    </tr>\n",
              "  </tbody>\n",
              "</table>\n",
              "<p>5 rows × 65 columns</p>\n",
              "</div>\n",
              "    <div class=\"colab-df-buttons\">\n",
              "\n",
              "  <div class=\"colab-df-container\">\n",
              "    <button class=\"colab-df-convert\" onclick=\"convertToInteractive('df-93f2ef38-b20f-40c5-b898-92e50d9f4804')\"\n",
              "            title=\"Convert this dataframe to an interactive table.\"\n",
              "            style=\"display:none;\">\n",
              "\n",
              "  <svg xmlns=\"http://www.w3.org/2000/svg\" height=\"24px\" viewBox=\"0 -960 960 960\">\n",
              "    <path d=\"M120-120v-720h720v720H120Zm60-500h600v-160H180v160Zm220 220h160v-160H400v160Zm0 220h160v-160H400v160ZM180-400h160v-160H180v160Zm440 0h160v-160H620v160ZM180-180h160v-160H180v160Zm440 0h160v-160H620v160Z\"/>\n",
              "  </svg>\n",
              "    </button>\n",
              "\n",
              "  <style>\n",
              "    .colab-df-container {\n",
              "      display:flex;\n",
              "      gap: 12px;\n",
              "    }\n",
              "\n",
              "    .colab-df-convert {\n",
              "      background-color: #E8F0FE;\n",
              "      border: none;\n",
              "      border-radius: 50%;\n",
              "      cursor: pointer;\n",
              "      display: none;\n",
              "      fill: #1967D2;\n",
              "      height: 32px;\n",
              "      padding: 0 0 0 0;\n",
              "      width: 32px;\n",
              "    }\n",
              "\n",
              "    .colab-df-convert:hover {\n",
              "      background-color: #E2EBFA;\n",
              "      box-shadow: 0px 1px 2px rgba(60, 64, 67, 0.3), 0px 1px 3px 1px rgba(60, 64, 67, 0.15);\n",
              "      fill: #174EA6;\n",
              "    }\n",
              "\n",
              "    .colab-df-buttons div {\n",
              "      margin-bottom: 4px;\n",
              "    }\n",
              "\n",
              "    [theme=dark] .colab-df-convert {\n",
              "      background-color: #3B4455;\n",
              "      fill: #D2E3FC;\n",
              "    }\n",
              "\n",
              "    [theme=dark] .colab-df-convert:hover {\n",
              "      background-color: #434B5C;\n",
              "      box-shadow: 0px 1px 3px 1px rgba(0, 0, 0, 0.15);\n",
              "      filter: drop-shadow(0px 1px 2px rgba(0, 0, 0, 0.3));\n",
              "      fill: #FFFFFF;\n",
              "    }\n",
              "  </style>\n",
              "\n",
              "    <script>\n",
              "      const buttonEl =\n",
              "        document.querySelector('#df-93f2ef38-b20f-40c5-b898-92e50d9f4804 button.colab-df-convert');\n",
              "      buttonEl.style.display =\n",
              "        google.colab.kernel.accessAllowed ? 'block' : 'none';\n",
              "\n",
              "      async function convertToInteractive(key) {\n",
              "        const element = document.querySelector('#df-93f2ef38-b20f-40c5-b898-92e50d9f4804');\n",
              "        const dataTable =\n",
              "          await google.colab.kernel.invokeFunction('convertToInteractive',\n",
              "                                                    [key], {});\n",
              "        if (!dataTable) return;\n",
              "\n",
              "        const docLinkHtml = 'Like what you see? Visit the ' +\n",
              "          '<a target=\"_blank\" href=https://colab.research.google.com/notebooks/data_table.ipynb>data table notebook</a>'\n",
              "          + ' to learn more about interactive tables.';\n",
              "        element.innerHTML = '';\n",
              "        dataTable['output_type'] = 'display_data';\n",
              "        await google.colab.output.renderOutput(dataTable, element);\n",
              "        const docLink = document.createElement('div');\n",
              "        docLink.innerHTML = docLinkHtml;\n",
              "        element.appendChild(docLink);\n",
              "      }\n",
              "    </script>\n",
              "  </div>\n",
              "\n",
              "\n",
              "<div id=\"df-5417f4ea-ff06-4ecc-a97a-5d38d7bcd4a2\">\n",
              "  <button class=\"colab-df-quickchart\" onclick=\"quickchart('df-5417f4ea-ff06-4ecc-a97a-5d38d7bcd4a2')\"\n",
              "            title=\"Suggest charts\"\n",
              "            style=\"display:none;\">\n",
              "\n",
              "<svg xmlns=\"http://www.w3.org/2000/svg\" height=\"24px\"viewBox=\"0 0 24 24\"\n",
              "     width=\"24px\">\n",
              "    <g>\n",
              "        <path d=\"M19 3H5c-1.1 0-2 .9-2 2v14c0 1.1.9 2 2 2h14c1.1 0 2-.9 2-2V5c0-1.1-.9-2-2-2zM9 17H7v-7h2v7zm4 0h-2V7h2v10zm4 0h-2v-4h2v4z\"/>\n",
              "    </g>\n",
              "</svg>\n",
              "  </button>\n",
              "\n",
              "<style>\n",
              "  .colab-df-quickchart {\n",
              "      --bg-color: #E8F0FE;\n",
              "      --fill-color: #1967D2;\n",
              "      --hover-bg-color: #E2EBFA;\n",
              "      --hover-fill-color: #174EA6;\n",
              "      --disabled-fill-color: #AAA;\n",
              "      --disabled-bg-color: #DDD;\n",
              "  }\n",
              "\n",
              "  [theme=dark] .colab-df-quickchart {\n",
              "      --bg-color: #3B4455;\n",
              "      --fill-color: #D2E3FC;\n",
              "      --hover-bg-color: #434B5C;\n",
              "      --hover-fill-color: #FFFFFF;\n",
              "      --disabled-bg-color: #3B4455;\n",
              "      --disabled-fill-color: #666;\n",
              "  }\n",
              "\n",
              "  .colab-df-quickchart {\n",
              "    background-color: var(--bg-color);\n",
              "    border: none;\n",
              "    border-radius: 50%;\n",
              "    cursor: pointer;\n",
              "    display: none;\n",
              "    fill: var(--fill-color);\n",
              "    height: 32px;\n",
              "    padding: 0;\n",
              "    width: 32px;\n",
              "  }\n",
              "\n",
              "  .colab-df-quickchart:hover {\n",
              "    background-color: var(--hover-bg-color);\n",
              "    box-shadow: 0 1px 2px rgba(60, 64, 67, 0.3), 0 1px 3px 1px rgba(60, 64, 67, 0.15);\n",
              "    fill: var(--button-hover-fill-color);\n",
              "  }\n",
              "\n",
              "  .colab-df-quickchart-complete:disabled,\n",
              "  .colab-df-quickchart-complete:disabled:hover {\n",
              "    background-color: var(--disabled-bg-color);\n",
              "    fill: var(--disabled-fill-color);\n",
              "    box-shadow: none;\n",
              "  }\n",
              "\n",
              "  .colab-df-spinner {\n",
              "    border: 2px solid var(--fill-color);\n",
              "    border-color: transparent;\n",
              "    border-bottom-color: var(--fill-color);\n",
              "    animation:\n",
              "      spin 1s steps(1) infinite;\n",
              "  }\n",
              "\n",
              "  @keyframes spin {\n",
              "    0% {\n",
              "      border-color: transparent;\n",
              "      border-bottom-color: var(--fill-color);\n",
              "      border-left-color: var(--fill-color);\n",
              "    }\n",
              "    20% {\n",
              "      border-color: transparent;\n",
              "      border-left-color: var(--fill-color);\n",
              "      border-top-color: var(--fill-color);\n",
              "    }\n",
              "    30% {\n",
              "      border-color: transparent;\n",
              "      border-left-color: var(--fill-color);\n",
              "      border-top-color: var(--fill-color);\n",
              "      border-right-color: var(--fill-color);\n",
              "    }\n",
              "    40% {\n",
              "      border-color: transparent;\n",
              "      border-right-color: var(--fill-color);\n",
              "      border-top-color: var(--fill-color);\n",
              "    }\n",
              "    60% {\n",
              "      border-color: transparent;\n",
              "      border-right-color: var(--fill-color);\n",
              "    }\n",
              "    80% {\n",
              "      border-color: transparent;\n",
              "      border-right-color: var(--fill-color);\n",
              "      border-bottom-color: var(--fill-color);\n",
              "    }\n",
              "    90% {\n",
              "      border-color: transparent;\n",
              "      border-bottom-color: var(--fill-color);\n",
              "    }\n",
              "  }\n",
              "</style>\n",
              "\n",
              "  <script>\n",
              "    async function quickchart(key) {\n",
              "      const quickchartButtonEl =\n",
              "        document.querySelector('#' + key + ' button');\n",
              "      quickchartButtonEl.disabled = true;  // To prevent multiple clicks.\n",
              "      quickchartButtonEl.classList.add('colab-df-spinner');\n",
              "      try {\n",
              "        const charts = await google.colab.kernel.invokeFunction(\n",
              "            'suggestCharts', [key], {});\n",
              "      } catch (error) {\n",
              "        console.error('Error during call to suggestCharts:', error);\n",
              "      }\n",
              "      quickchartButtonEl.classList.remove('colab-df-spinner');\n",
              "      quickchartButtonEl.classList.add('colab-df-quickchart-complete');\n",
              "    }\n",
              "    (() => {\n",
              "      let quickchartButtonEl =\n",
              "        document.querySelector('#df-5417f4ea-ff06-4ecc-a97a-5d38d7bcd4a2 button');\n",
              "      quickchartButtonEl.style.display =\n",
              "        google.colab.kernel.accessAllowed ? 'block' : 'none';\n",
              "    })();\n",
              "  </script>\n",
              "</div>\n",
              "\n",
              "    </div>\n",
              "  </div>\n"
            ],
            "application/vnd.google.colaboratory.intrinsic+json": {
              "type": "dataframe",
              "variable_name": "merged_df"
            }
          },
          "metadata": {},
          "execution_count": 26
        }
      ]
    },
    {
      "cell_type": "code",
      "source": [
        "df=external_df.copy()\n",
        "df = df[(df['year'] == 2016) | (df['year'] == 2017)]\n",
        "\n",
        "# Create a 'year-month' column\n",
        "df['year_month'] = pd.to_datetime(df[['year', 'month']].assign(day=1))\n",
        "\n",
        "# Sort by 'year_month' to ensure proper time order\n",
        "df = df.sort_values('year_month')\n",
        "\n",
        "# Plotting\n",
        "plt.figure(figsize=(10, 6))\n",
        "plt.plot(df['year_month'], df['Construction_Value'], marker='o',linestyle='-', color='purple')\n",
        "\n",
        "# Title and labels\n",
        "plt.title('Total Construction Value Over Time (2016-2017)', fontsize=14)\n",
        "plt.xlabel('Year-Month', fontsize=12)\n",
        "plt.ylabel('Total Construction Value ($)', fontsize=12)\n",
        "\n",
        "# Rotate x-axis labels for better readability\n",
        "plt.xticks(rotation=45)\n",
        "\n",
        "# Set x-axis limits to focus on 2016 and 2017\n",
        "plt.xlim(pd.Timestamp('2016-01-01'), pd.Timestamp('2017-12-31'))\n",
        "\n",
        "# Show grid and plot\n",
        "plt.grid(True)\n",
        "plt.tight_layout()\n",
        "plt.show()"
      ],
      "metadata": {
        "colab": {
          "base_uri": "https://localhost:8080/",
          "height": 416
        },
        "id": "3_n-ta95JaRo",
        "outputId": "2cf58147-4aa2-489b-e43e-87ddd268de68"
      },
      "execution_count": null,
      "outputs": [
        {
          "output_type": "display_data",
          "data": {
            "text/plain": [
              "<Figure size 1000x600 with 1 Axes>"
            ],
            "image/png": "[encoded data removed]"
          },
          "metadata": {}
        }
      ]
    },
    {
      "cell_type": "code",
      "source": [
        "\n",
        "merged_df.to_csv('Externalmerged.csv', index=False)\n"
      ],
      "metadata": {
        "id": "CzIr6aGkXpHI"
      },
      "execution_count": null,
      "outputs": []
    },
    {
      "cell_type": "markdown",
      "source": [
        "## **Q5: Visualizing Insights from Housing Data (15 Points)**\n"
      ],
      "metadata": {
        "id": "pRNeixoF5PL0"
      }
    },
    {
      "cell_type": "markdown",
      "source": [
        "**Produce three interesting visualizations of something you learn from thehousing data(15%)**"
      ],
      "metadata": {
        "id": "_NQYnEzX-dGv"
      }
    },
    {
      "cell_type": "markdown",
      "source": [
        "Graph Describing Price per Square Foot Over Time"
      ],
      "metadata": {
        "id": "UQzcHQLxOWVy"
      }
    },
    {
      "cell_type": "code",
      "source": [
        "# Calculate price per square foot\n",
        "distance_dataframe['price_per_sqft'] = distance_dataframe['taxvaluedollarcnt'] / distance_dataframe['calculatedfinishedsquarefeet']\n",
        "\n",
        "# Find the peak year for price per square foot\n",
        "peak_year = distance_dataframe.groupby('yearbuilt')['price_per_sqft'].mean().idxmax()\n",
        "\n",
        "# Filter data to include only years up to the peak\n",
        "filtered_data = distance_dataframe[distance_dataframe['yearbuilt'] <= peak_year]\n",
        "\n",
        "# Create a line plot showing price per square foot over time (stopping at peak)\n",
        "plt.figure(figsize=(10, 6))\n",
        "sns.lineplot(x='yearbuilt', y='price_per_sqft', data=filtered_data, ci=None, color='green')\n",
        "\n",
        "plt.title('Price per Square Foot Over Time (Year Built) - Until Peak Year')\n",
        "plt.xlabel('Year Built')\n",
        "plt.ylabel('Price per Square Foot ($)')\n",
        "plt.show()"
      ],
      "metadata": {
        "colab": {
          "base_uri": "https://localhost:8080/",
          "height": 448
        },
        "id": "ef6tGU9WOJiE",
        "outputId": "b5aa48e6-69d7-4514-95fb-5d21c4e52e4b"
      },
      "execution_count": null,
      "outputs": [
        {
          "output_type": "display_data",
          "data": {
            "text/plain": [
              "<Figure size 1000x600 with 1 Axes>"
            ],
            "image/png": "[encoded data removed]"
          },
          "metadata": {}
        }
      ]
    },
    {
      "cell_type": "markdown",
      "source": [
        "**Barplot depicting the buildquality and built decade**"
      ],
      "metadata": {
        "id": "kS2tUxzaJf6A"
      }
    },
    {
      "cell_type": "code",
      "source": [
        "# yearbuilt , buildingqualitytypeid\n",
        "temp1=updated_properties.dropna(subset=['yearbuilt', 'buildingqualitytypeid'])\n",
        "\n",
        "\n",
        "# Create a scatter plot to visualize the relationship\n",
        "# Bin the year built into decades\n",
        "temp1['year_built_bin'] = (temp1['yearbuilt'] // 10) * 10\n",
        "\n",
        "# Aggregate by bins\n",
        "binned_data = temp1.groupby('year_built_bin')['buildingqualitytypeid'].mean().reset_index()\n",
        "\n",
        "plt.figure(figsize=(12, 8))\n",
        "sns.barplot(data=binned_data, x='year_built_bin', y='buildingqualitytypeid')\n",
        "plt.title('Average Building Quality Type ID by Decade Built')\n",
        "plt.xlabel('Year Built (Decade)')\n",
        "plt.ylabel('Average Building Quality Type ID (Lower is Better)')\n",
        "plt.xticks(rotation=45)\n",
        "plt.grid()\n",
        "plt.show()"
      ],
      "metadata": {
        "colab": {
          "base_uri": "https://localhost:8080/",
          "height": 748
        },
        "id": "-IoFMIBKBdjI",
        "outputId": "8f25fa0c-c0fa-4537-f5ed-4140c05c375d"
      },
      "execution_count": null,
      "outputs": [
        {
          "output_type": "display_data",
          "data": {
            "text/plain": [
              "<Figure size 1200x800 with 1 Axes>"
            ],
            "image/png": "[encoded data removed]"
          },
          "metadata": {}
        }
      ]
    },
    {
      "cell_type": "markdown",
      "source": [
        "**Average Tax Assessed Value by Number of Units**"
      ],
      "metadata": {
        "id": "uzCrRjOT52zR"
      }
    },
    {
      "cell_type": "code",
      "source": [
        "temp3=updated_properties.dropna(subset=['unitcnt', 'taxvaluedollarcnt'])\n",
        "\n",
        "aggregated_data = temp3.groupby('unitcnt')['taxvaluedollarcnt'].mean().reset_index()\n",
        "plt.figure(figsize=(12, 8))\n",
        "\n",
        "sns.barplot(data=aggregated_data, x='unitcnt', y='taxvaluedollarcnt', palette='viridis')\n",
        "plt.title('Average Tax Assessed Value by Number of Units')\n",
        "plt.xlabel('Number of Units (unitcnt)')\n",
        "plt.ylabel('Average Total Tax Assessed Value ($)')\n",
        "plt.xticks(rotation=45)\n",
        "plt.grid()\n",
        "plt.show()"
      ],
      "metadata": {
        "colab": {
          "base_uri": "https://localhost:8080/",
          "height": 498
        },
        "id": "3p1UhFzhMBut",
        "outputId": "ad6e2de6-fcf1-44a5-a13f-58eb2026a61c"
      },
      "execution_count": null,
      "outputs": [
        {
          "output_type": "display_data",
          "data": {
            "text/plain": [
              "<Figure size 1200x800 with 1 Axes>"
            ],
            "image/png": "[encoded data removed]"
          },
          "metadata": {}
        }
      ]
    },
    {
      "cell_type": "markdown",
      "source": [
        "## **Q6: Best Prediction Model for Zillow Logerror (20 Points)**\n"
      ],
      "metadata": {
        "id": "O_j3EXHL5bW7"
      }
    },
    {
      "cell_type": "markdown",
      "source": [
        "Finally, build the best prediction model you can to solve the Zillow task. Use any data,\n",
        "ideas, and approach that you like. Predict the logerror for instances at file\n",
        "“sample_submission.csv”. Report the score you get when submitting it to Kaggle.\n",
        "Describe how your model works, give an evaluation, and report any interesting\n",
        "experiences along the way. (20%)\n",
        "\n"
      ],
      "metadata": {
        "id": "E1pvUMW1W118"
      }
    },
    {
      "cell_type": "markdown",
      "source": [
        "### Prediction Model Using GradientBoostingRegressor"
      ],
      "metadata": {
        "id": "2xvBrwBZEtIX"
      }
    },
    {
      "cell_type": "code",
      "source": [
        "# Step 1: Load the datasets\n",
        "zillow_train_data = pd.read_csv('/content/drive/MyDrive/courses/cse519/homework2/train_2017.csv', parse_dates=[\"transactiondate\"])\n",
        "properties = pd.read_csv('/content/drive/MyDrive/courses/cse519/homework2/properties_2017.csv')  # Assuming we only have properties data\n",
        "test_data = pd.read_csv('/content/drive/MyDrive/courses/cse519/homework2/sample_submission.csv')\n",
        "test_data = test_data.rename(columns={'ParcelId': 'parcelid'})\n",
        "\n",
        "# Step 2: Merge train and test data with property data\n",
        "zillow_train_data = zillow_train_data.merge(properties, on='parcelid', how='left')\n",
        "test_data = test_data.merge(properties, on='parcelid', how='left')\n",
        "\n",
        "# Step 3: Handle missing values and label encoding\n"
      ],
      "metadata": {
        "id": "zrVQ_crjUcXP"
      },
      "execution_count": null,
      "outputs": []
    },
    {
      "cell_type": "code",
      "source": [
        "lbl = LabelEncoder()\n",
        "\n",
        "# Fill missing values and encode categorical variables for training data\n",
        "for column in zillow_train_data.columns:\n",
        "    zillow_train_data[column] = zillow_train_data[column].fillna(0)  # Fill NaNs with 0\n",
        "    if zillow_train_data[column].dtype == 'object':\n",
        "        zillow_train_data[column] = lbl.fit_transform(zillow_train_data[column].astype(str))\n",
        "\n",
        "# Fill missing values and encode categorical variables for test data\n",
        "for column in test_data.columns:\n",
        "    test_data[column] = test_data[column].fillna(0)  # Fill NaNs with 0\n",
        "    if test_data[column].dtype == 'object':\n",
        "        test_data[column] = lbl.fit_transform(test_data[column].astype(str))\n",
        "\n"
      ],
      "metadata": {
        "id": "Mvl3lOSa5Two"
      },
      "execution_count": null,
      "outputs": []
    },
    {
      "cell_type": "code",
      "source": [
        "# Step 4: Define features and target variable for training\n",
        "zillow_X_train = zillow_train_data.drop(['parcelid', 'logerror', 'transactiondate'], axis=1)\n",
        "y_train = zillow_train_data['logerror']\n",
        "\n",
        "# Ensure the test dataset has only the features that were in training\n",
        "X_test = test_data[zillow_X_train.columns]\n",
        "\n",
        "# Step 5: Split training data into train and validation sets\n",
        "Xtrain, Xvalid, ytrain, yvalid = train_test_split(zillow_X_train, y_train, test_size=0.2, random_state=42)\n",
        "\n",
        "# Step 6: Train a Gradient Boosting Regressor model\n",
        "gbr_model = GradientBoostingRegressor(n_estimators=150, learning_rate=0.05, max_depth=5, random_state=42)\n",
        "gbr_model.fit(Xtrain, ytrain)\n",
        "# Step 7: Evaluate on the validation set\n",
        "y_val_pred = gbr_model.predict(Xvalid)\n",
        "mae_val = mean_absolute_error(yvalid, y_val_pred)\n",
        "rmse_val = np.sqrt(mean_squared_error(yvalid, y_val_pred))\n",
        "print(f'Validation MAE: {mae_val}')\n",
        "print(f'Validation RMSE: {rmse_val}')\n"
      ],
      "metadata": {
        "colab": {
          "base_uri": "https://localhost:8080/"
        },
        "id": "dMhVytubUcRv",
        "outputId": "1d7a2684-6b0c-40c7-ddff-cff9c3d525d1"
      },
      "execution_count": null,
      "outputs": [
        {
          "output_type": "stream",
          "name": "stdout",
          "text": [
            "Validation MAE: 0.0715469506179633\n",
            "Validation RMSE: 0.17761812844398003\n"
          ]
        }
      ]
    },
    {
      "cell_type": "code",
      "source": [
        "# Step 7: Evaluate on the validation set\n",
        "y_val_pred = gbr_model.predict(Xvalid)\n",
        "mae_val = mean_absolute_error(yvalid, y_val_pred)\n",
        "rmse_val = np.sqrt(mean_squared_error(yvalid, y_val_pred))\n",
        "print(f'Validation MAE: {mae_val}')\n",
        "print(f'Validation RMSE: {rmse_val}')\n",
        "\n"
      ],
      "metadata": {
        "colab": {
          "base_uri": "https://localhost:8080/"
        },
        "id": "Jjh9VBaAUcPT",
        "outputId": "8983b609-83d3-4ac6-ae8b-2f794b83c9b4"
      },
      "execution_count": null,
      "outputs": [
        {
          "output_type": "stream",
          "name": "stdout",
          "text": [
            "Validation MAE: 0.0715469506179633\n",
            "Validation RMSE: 0.17761812844398003\n"
          ]
        }
      ]
    },
    {
      "cell_type": "code",
      "source": [
        "# Step 8: Make predictions on the test set\n",
        "y_test_pred = gbr_model.predict(X_test)\n",
        "\n",
        "# Step 9: Prepare the submission file\n",
        "submission_file = pd.read_csv('/content/drive/MyDrive/courses/cse519/homework2/sample_submission.csv')\n",
        "for col in submission_file.columns[submission_file.columns != 'ParcelId']:\n",
        "    submission_file[col] = y_test_pred\n",
        "print(y_test_pred)\n",
        "# Save the predictions for submission to Kaggle\n",
        "submission_file.to_csv('zillow_predictions.csv', index=False, float_format='%.4f')"
      ],
      "metadata": {
        "colab": {
          "base_uri": "https://localhost:8080/"
        },
        "id": "d3d0wp3nUcMi",
        "outputId": "0001c64e-42fc-4d0c-f752-75def6d35ed6"
      },
      "execution_count": null,
      "outputs": [
        {
          "output_type": "stream",
          "name": "stdout",
          "text": [
            "[ 0.01356004  0.12786683 -0.17312114 ...  0.09126585  0.1089252\n",
            "  0.09183924]\n"
          ]
        }
      ]
    },
    {
      "cell_type": "code",
      "source": [],
      "metadata": {
        "id": "UreGSE6BUcKL"
      },
      "execution_count": null,
      "outputs": []
    },
    {
      "cell_type": "markdown",
      "source": [
        "### Prediction Using XGBRegressor\n",
        "\n"
      ],
      "metadata": {
        "id": "sluDIrW1E3mh"
      }
    },
    {
      "cell_type": "code",
      "source": [
        "# Step 1: Load the datasets\n",
        "zillow_train_data = pd.read_csv('/content/drive/MyDrive/courses/cse519/homework2/train_2017.csv', parse_dates=[\"transactiondate\"])\n",
        "properties = pd.read_csv('/content/drive/MyDrive/courses/cse519/homework2/properties_2017.csv')  # Assuming we only have properties data\n",
        "test_data = pd.read_csv('/content/drive/MyDrive/courses/cse519/homework2/sample_submission.csv')\n",
        "test_data = test_data.rename(columns={'ParcelId': 'parcelid'})\n",
        "\n",
        "# Step 2: Merge train and test data with property data\n",
        "zillow_train_data = zillow_train_data.merge(properties, on='parcelid', how='left')\n",
        "test_data = test_data.merge(properties, on='parcelid', how='left')\n",
        "\n",
        "# Step 3: Handle missing values and label encoding"
      ],
      "metadata": {
        "id": "iolbMT33-5Q9"
      },
      "execution_count": null,
      "outputs": []
    },
    {
      "cell_type": "code",
      "source": [
        "lbl = LabelEncoder()\n",
        "\n",
        "# Fill missing values and encode categorical variables for training data\n",
        "for column in zillow_train_data.columns:\n",
        "    zillow_train_data[column] = zillow_train_data[column].fillna(0)  # Fill NaNs with 0\n",
        "    if zillow_train_data[column].dtype == 'object':\n",
        "        zillow_train_data[column] = lbl.fit_transform(zillow_train_data[column].astype(str))\n",
        "\n",
        "# Fill missing values and encode categorical variables for test data\n",
        "for column in test_data.columns:\n",
        "    test_data[column] = test_data[column].fillna(0)  # Fill NaNs with 0\n",
        "    if test_data[column].dtype == 'object':\n",
        "        test_data[column] = lbl.fit_transform(test_data[column].astype(str))"
      ],
      "metadata": {
        "id": "kaMY-4Dk_Mgg"
      },
      "execution_count": null,
      "outputs": []
    },
    {
      "cell_type": "code",
      "source": [
        "# Step 4: Define features and target variable for training\n",
        "model = xgb.XGBRegressor(objective='reg:squarederror', n_estimators=500, max_depth=6, learning_rate=0.01)\n",
        "zillow_X_train = zillow_train_data.drop(['parcelid', 'logerror', 'transactiondate'], axis=1)\n",
        "y_train = zillow_train_data['logerror']\n",
        "\n",
        "# Ensure the test dataset has only the features that were in training\n",
        "X_test = test_data[zillow_X_train.columns]\n",
        "\n",
        "# Step 5: Split training data into train and validation sets\n",
        "Xtrain, Xvalid, ytrain, yvalid = train_test_split(zillow_X_train, y_train, test_size=0.2, random_state=42)\n",
        "\n",
        "\n",
        "gbr_model = xgb.XGBRegressor(\n",
        "    objective='reg:squarederror',\n",
        "    n_estimators=500,\n",
        "    max_depth=6,\n",
        "    learning_rate=0.01,\n",
        "    random_state=42\n",
        ")\n",
        "\n",
        "# Train the model\n",
        "gbr_model.fit(Xtrain, ytrain)\n",
        "\n",
        "# Step 6: Train a Gradient Boosting Regressor model\n",
        "# gbr_model = GradientBoostingRegressor(n_estimators=150, learning_rate=0.05, max_depth=5, random_state=42)\n",
        "# gbr_model.fit(Xtrain, ytrain)\n",
        "\n",
        "# Step 7: Evaluate on the validation set\n",
        "y_val_pred = gbr_model.predict(Xvalid)\n",
        "mae_val = mean_absolute_error(yvalid, y_val_pred)\n",
        "rmse_val = np.sqrt(mean_squared_error(yvalid, y_val_pred))\n",
        "print(f'Validation MAE: {mae_val}')\n",
        "print(f'Validation RMSE: {rmse_val}')"
      ],
      "metadata": {
        "colab": {
          "base_uri": "https://localhost:8080/"
        },
        "id": "Ws0hzjDF_MdV",
        "outputId": "6caeb8fb-5404-422f-a0ef-94696f9f4639"
      },
      "execution_count": null,
      "outputs": [
        {
          "output_type": "stream",
          "name": "stdout",
          "text": [
            "Validation MAE: 0.07148134286841575\n",
            "Validation RMSE: 0.17690160733536034\n"
          ]
        }
      ]
    },
    {
      "cell_type": "code",
      "source": [
        "# Step 7: Evaluate on the validation set\n",
        "y_val_pred = gbr_model.predict(Xvalid)\n",
        "mae_val = mean_absolute_error(yvalid, y_val_pred)\n",
        "rmse_val = np.sqrt(mean_squared_error(yvalid, y_val_pred))\n",
        "print(f'Validation MAE: {mae_val}')\n",
        "print(f'Validation RMSE: {rmse_val}')\n"
      ],
      "metadata": {
        "colab": {
          "base_uri": "https://localhost:8080/"
        },
        "id": "2O-TlQCP_Mau",
        "outputId": "32ce6848-b4b4-40e9-9c3d-13b6abe434de"
      },
      "execution_count": null,
      "outputs": [
        {
          "output_type": "stream",
          "name": "stdout",
          "text": [
            "Validation MAE: 0.07148134286841575\n",
            "Validation RMSE: 0.17690160733536034\n"
          ]
        }
      ]
    },
    {
      "cell_type": "code",
      "source": [
        "# Step 8: Make predictions on the test set\n",
        "y_test_pred = gbr_model.predict(X_test)\n",
        "\n",
        "# Step 9: Prepare the submission file\n",
        "submission_file = pd.read_csv('/content/drive/MyDrive/courses/cse519/homework2/sample_submission.csv')\n",
        "for col in submission_file.columns[submission_file.columns != 'ParcelId']:\n",
        "    submission_file[col] = y_test_pred\n",
        "print(y_test_pred)\n",
        "# Save the predictions for submission to Kaggle\n",
        "submission_file.to_csv('zillow_predictions.csv', index=False, float_format='%.4f')"
      ],
      "metadata": {
        "colab": {
          "base_uri": "https://localhost:8080/"
        },
        "id": "Ya3WPeh7_MXu",
        "outputId": "e79caa82-b324-4b1a-a08d-558d2b42e478"
      },
      "execution_count": null,
      "outputs": [
        {
          "output_type": "stream",
          "name": "stdout",
          "text": [
            "[ 0.32884273  0.10103695 -0.05085827 ...  0.01833132  0.01616649\n",
            "  0.01746304]\n"
          ]
        }
      ]
    },
    {
      "cell_type": "markdown",
      "source": [
        "![score.png](data:image/png;base64,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)"
      ],
      "metadata": {
        "id": "vUsqXcuMDU2b"
      }
    },
    {
      "cell_type": "markdown",
      "source": [
        "## **Q7: Permutation Test for Logerror Prediction Evaluation (15 Points)**\n"
      ],
      "metadata": {
        "id": "OELOM1Wb5jsB"
      }
    },
    {
      "cell_type": "markdown",
      "source": [
        "7. Do a permutation test to determine a p-value of whether your predictions of logerror are\n",
        "better than chance. You can use whatever metric you wish to score your model (such as\n",
        "mean absolute error). For a large enough sample of the evaluation data, compare how\n",
        "your model ranks by this metric on the real data compared to 100 (or more) random\n",
        "permutations of the logerror assigned to the real data records. What fraction of\n",
        "permutations produce at least error at least as good at the real data set? If necessary,\n",
        "subsample your data so these 100+ runs do not take too much time. (15%)"
      ],
      "metadata": {
        "id": "X-XWx-4OW6Xu"
      }
    },
    {
      "cell_type": "code",
      "source": [
        "\n",
        "# Assuming you already have yvalid and y_val_pred\n",
        "actual_mae = mean_absolute_error(yvalid, y_val_pred)\n",
        "print(f'Actual MAE: {actual_mae}')\n",
        "\n",
        "iteration_number = 100  # Set the number of random shuffles\n",
        "mixed_maes = []  # List to store MAE for each permutation\n",
        "\n",
        "for i in range(iteration_number):\n",
        "    # Shuffle the true validation values randomly\n",
        "    permuted_yvalid = yvalid.sample(frac=1, replace=False).reset_index(drop=True)\n",
        "\n",
        "    # Compute MAE between shuffled yvalid and original predictions\n",
        "    per_mae = mean_absolute_error(permuted_yvalid, y_val_pred)\n",
        "\n",
        "    # Store the permuted MAE in the list\n",
        "    mixed_maes.append(per_mae)\n",
        "\n",
        "shuffled_maes = np.array(mixed_maes)\n",
        "p_value = np.mean(shuffled_maes <= actual_mae)\n",
        "print(f'P-value: {p_value}')\n",
        "\n",
        "# Sort the shuffled MAEs for the CDF plot\n",
        "sorted_maes = np.sort(shuffled_maes)\n",
        "cumulative_probabilities = np.arange(1, len(sorted_maes)+1) / len(sorted_maes)\n",
        "\n",
        "# Plot CDF of shuffled MAEs\n",
        "plt.plot(sorted_maes, cumulative_probabilities, label='Cumulative Distribution of Shuffled MAEs', color='blue')\n",
        "plt.axvline(actual_mae, color='green', linestyle='--', label=f'Actual MAE: {actual_mae:.4f}', linewidth=2)\n",
        "\n",
        "# Plot details\n",
        "plt.xlabel('Mean Absolute Error')\n",
        "plt.ylabel('Cumulative Probability')\n",
        "plt.title('Cumulative Distribution of Shuffled MAEs vs Actual MAE')\n",
        "plt.legend()\n",
        "plt.grid(True)\n",
        "plt.show()\n"
      ],
      "metadata": {
        "colab": {
          "base_uri": "https://localhost:8080/",
          "height": 508
        },
        "id": "cS-GNNmBGhHn",
        "outputId": "c6e25c8c-3c6b-458c-e632-d20b1ab6b3a4"
      },
      "execution_count": null,
      "outputs": [
        {
          "output_type": "stream",
          "name": "stdout",
          "text": [
            "Actual MAE: 0.07148134286841575\n",
            "P-value: 0.0\n"
          ]
        },
        {
          "output_type": "display_data",
          "data": {
            "text/plain": [
              "<Figure size 640x480 with 1 Axes>"
            ],
            "image/png": "[encoded data removed]"
          },
          "metadata": {}
        }
      ]
    },
    {
      "cell_type": "markdown",
      "source": [
        "## **Submission Guideline:**\n",
        "- Submit everything through Google classroom. As mentioned above, you will need to upload:\n",
        "  1. The Jupyter notebook all your work is in (.ipynb file), derived from the provided template\n",
        "  2. PDF (export the notebook as a pdf file)\n",
        "\n",
        "\n",
        "- These files should be named with the following format, where the italicized parts should be replaced with the corresponding values:\n",
        "  1. cse519_hw2_*lastname_firstname_sbuid*.ipynb\n",
        "  2. cse519_hw2_*lastname_firstname_sbuid*.pdf\n",
        "\n",
        "Your Submission will  **NOT BE GRADED** if you don't follow the naming convention**❗❗**\n"
      ],
      "metadata": {
        "id": "A9-QC6ks4teT"
      }
    },
    {
      "cell_type": "markdown",
      "source": [
        "Good Luck! (੭˶ᵔ ᵕ ᵔ˶)੭₊˚❀༉‧₊˚"
      ],
      "metadata": {
        "id": "jAkfYFqiFDXS"
      }
    }
  ]
}